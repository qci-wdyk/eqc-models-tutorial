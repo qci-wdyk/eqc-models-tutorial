{
 "cells": [
  {
   "cell_type": "markdown",
   "id": "843b0f27",
   "metadata": {},
   "source": [
    "<div align=\"center\">\n",
    "\n",
    "# Dirac-3 Continuous\n",
    "\n",
    "<h4>\n",
    "  Wesley Dyk<br>\n",
    "  <small style=\"font-weight: normal;\">\n",
    "    Senior Quantum Solutions Architect<br>\n",
    "    Quantum Computing Inc.\n",
    "  </small>\n",
    "</h4>\n",
    "\n",
    "<br>\n",
    "\n",
    "[![Open in Colab](https://colab.research.google.com/assets/colab-badge.svg)](https://colab.research.google.com/github/qci-wdyk/eqc-models-tutorial/blob/main/tutorial03-continuous.ipynb)\n",
    "\n",
    "</div>"
   ]
  },
  {
   "cell_type": "markdown",
   "id": "5560d42a-86ab-4371-8e40-abae59ed772f",
   "metadata": {},
   "source": [
    "## Encoding\n",
    "\n",
    "To encode variables in continuous values, Dirac-3 uses photon count in a time bin as a linearly scaled representation of the value for the qudit associated with that time bin. To obtain the qudit values, the photon counts across all qudits are normalized to a total equal to the sum constraint value. Where $R$ is the sum constraint value, $c_i$ is the photon count for time bin $i$, \n",
    "$$\n",
    "x_i = R \\left(\\frac{c_i}{\\sum_j c_j}\\right)\n",
    "$$\n",
    "The details on how the photon counts can represent this are proprietary. Each qudit is represented by a discrete number of levels. This number of levels subject to the sensitivity of the device, given environmental changes. The minimum number of levels is 200, which directly corresponds to the minimum sensitivity of the device in decibels, approximately 23 dB. The max sensitivity that Dirac-3 can achieve currently is 40 dB. This corresponds to 10,000 levels. \n",
    "\n",
    "## Sum Constraint\n",
    "In the previous tutorial, the `sum_constraint` parameter was introduced.\n",
    "$$\n",
    "\\sum_i x_i = R\n",
    "$$\n",
    "\n",
    "## Distillation\n",
    "There isn't an error correction scheme needed for this computing paradigm like there is for gate model devices. The EQC does have to mitigate shot noise and the output values could have an error rate of up to $\\sqrt{c_i}$. This provides an opportunity for post-processing that we call distillation, done using sampling from distributions based on the state vector ($(c_0, c_1,\\ldots,c_{n-1})$) given by the device. Distillation is triggered by requesting a solution precision.\n",
    "\n",
    "## Supported Polynomial\n",
    "Dirac-3 has the capability of representing up to fifth-order terms:\n",
    "$$\n",
    "E(x)=\\sum_i C_i x_i + \\sum_i\\sum_j J_{ij}x_ix_j + \\sum_i\\sum_j\\sum_k T_{ijk} x_ix_jx_k + \\sum_i\\sum_j\\sum_k\\sum_l Q_{ijkl} x_ix_jx_kx_l+ \\sum_i\\sum_j\\sum_k\\sum_l\\sum_m P_{ijklm} x_ix_jx_kx_lx_m .\n",
    "$$\n",
    "\n",
    "## Device Configuration Parameters\n",
    "\n",
    "Dirac-3 supports three parameters which directly impact the evolution of a solution sample.\n",
    "\n",
    "- `relaxation_schedule` is a parameter which represents the choice of one of 4 preconfigured parameter settings. 1 is a choice that also includes an artificial limit on the number of iterations. For the options 2, 3 and 4, the higher the number, the higher the probability of finding the ground state in a single sample. Trade-offs between the number of samples requested and relaxation schedule can lead to more efficient sampling.\n",
    "- `mean_photon_number` sets the average number of photons in every quantum state. Allowed values are floating point numbers between 6.67e-05 and 0.0066666.\n",
    "- `quantum_fluctuation_coefficient` sets the amount of loss introduced into the system for each loop in the measurement process. Allowed values are integers between 1 and 50.\n"
   ]
  },
  {
   "cell_type": "markdown",
   "id": "56c987c2",
   "metadata": {},
   "source": [
    "## Imports"
   ]
  },
  {
   "cell_type": "code",
   "execution_count": 1,
   "id": "98c3efab-3be2-4fa5-85c8-bbf9a97b96eb",
   "metadata": {},
   "outputs": [
    {
     "name": "stdout",
     "output_type": "stream",
     "text": [
      "\u001b[33mWARNING: Ignoring invalid distribution -rpcio (/Users/wesleydyk/.pyenv/versions/3.10.14/envs/afsdemos/lib/python3.10/site-packages)\u001b[0m\u001b[33m\n",
      "\u001b[0m\u001b[33mWARNING: Ignoring invalid distribution -rpcio (/Users/wesleydyk/.pyenv/versions/3.10.14/envs/afsdemos/lib/python3.10/site-packages)\u001b[0m\u001b[33m\n",
      "\u001b[0mRequirement already satisfied: eqc_models in /Users/wesleydyk/.pyenv/versions/3.10.14/envs/afsdemos/lib/python3.10/site-packages (0.14.2)\n",
      "Requirement already satisfied: xgboost<4,>=1.7.4 in /Users/wesleydyk/.pyenv/versions/3.10.14/envs/afsdemos/lib/python3.10/site-packages (from eqc_models) (3.0.2)\n",
      "Requirement already satisfied: lightgbm<5,>=4.6.0 in /Users/wesleydyk/.pyenv/versions/3.10.14/envs/afsdemos/lib/python3.10/site-packages (from eqc_models) (4.6.0)\n",
      "Requirement already satisfied: networkx<3,>=2.6.3 in /Users/wesleydyk/.pyenv/versions/3.10.14/envs/afsdemos/lib/python3.10/site-packages (from eqc_models) (2.8.8)\n",
      "Requirement already satisfied: scikit-learn<2,>=1.2.1 in /Users/wesleydyk/.pyenv/versions/3.10.14/envs/afsdemos/lib/python3.10/site-packages (from eqc_models) (1.6.1)\n",
      "Requirement already satisfied: pandas<3,>=2.1.0 in /Users/wesleydyk/.pyenv/versions/3.10.14/envs/afsdemos/lib/python3.10/site-packages (from eqc_models) (2.1.0)\n",
      "Requirement already satisfied: emucore-direct==1.0.7 in /Users/wesleydyk/.pyenv/versions/3.10.14/envs/afsdemos/lib/python3.10/site-packages (from eqc_models) (1.0.7)\n",
      "Requirement already satisfied: eqc-direct==2.0.2 in /Users/wesleydyk/.pyenv/versions/3.10.14/envs/afsdemos/lib/python3.10/site-packages (from eqc_models) (2.0.2)\n",
      "Requirement already satisfied: numpy<2,>=1.22.1 in /Users/wesleydyk/.pyenv/versions/3.10.14/envs/afsdemos/lib/python3.10/site-packages (from eqc_models) (1.26.4)\n",
      "Requirement already satisfied: qci-client<6,>=5 in /Users/wesleydyk/.pyenv/versions/3.10.14/envs/afsdemos/lib/python3.10/site-packages (from eqc_models) (5.0.0)\n",
      "Requirement already satisfied: scipy<2,>=1.11.1 in /Users/wesleydyk/.pyenv/versions/3.10.14/envs/afsdemos/lib/python3.10/site-packages (from emucore-direct==1.0.7->eqc_models) (1.15.3)\n",
      "Requirement already satisfied: bitstring<5,>=4.1.2 in /Users/wesleydyk/.pyenv/versions/3.10.14/envs/afsdemos/lib/python3.10/site-packages (from emucore-direct==1.0.7->eqc_models) (4.3.1)\n",
      "Requirement already satisfied: grpcio==1.72.1 in /Users/wesleydyk/.pyenv/versions/3.10.14/envs/afsdemos/lib/python3.10/site-packages (from emucore-direct==1.0.7->eqc_models) (1.72.1)\n",
      "Requirement already satisfied: protobuf==3.20.3 in /Users/wesleydyk/.pyenv/versions/3.10.14/envs/afsdemos/lib/python3.10/site-packages (from emucore-direct==1.0.7->eqc_models) (3.20.3)\n",
      "Requirement already satisfied: python-dateutil>=2.8.2 in /Users/wesleydyk/.pyenv/versions/3.10.14/envs/afsdemos/lib/python3.10/site-packages (from pandas<3,>=2.1.0->eqc_models) (2.9.0.post0)\n",
      "Requirement already satisfied: tzdata>=2022.1 in /Users/wesleydyk/.pyenv/versions/3.10.14/envs/afsdemos/lib/python3.10/site-packages (from pandas<3,>=2.1.0->eqc_models) (2025.2)\n",
      "Requirement already satisfied: pytz>=2020.1 in /Users/wesleydyk/.pyenv/versions/3.10.14/envs/afsdemos/lib/python3.10/site-packages (from pandas<3,>=2.1.0->eqc_models) (2025.2)\n",
      "Requirement already satisfied: requests-futures<2,>=1.0.0 in /Users/wesleydyk/.pyenv/versions/3.10.14/envs/afsdemos/lib/python3.10/site-packages (from qci-client<6,>=5->eqc_models) (1.0.2)\n",
      "Requirement already satisfied: requests<3,>=2.22.1 in /Users/wesleydyk/.pyenv/versions/3.10.14/envs/afsdemos/lib/python3.10/site-packages (from qci-client<6,>=5->eqc_models) (2.28.1)\n",
      "Requirement already satisfied: threadpoolctl>=3.1.0 in /Users/wesleydyk/.pyenv/versions/3.10.14/envs/afsdemos/lib/python3.10/site-packages (from scikit-learn<2,>=1.2.1->eqc_models) (3.6.0)\n",
      "Requirement already satisfied: joblib>=1.2.0 in /Users/wesleydyk/.pyenv/versions/3.10.14/envs/afsdemos/lib/python3.10/site-packages (from scikit-learn<2,>=1.2.1->eqc_models) (1.5.1)\n",
      "Requirement already satisfied: bitarray<4.0,>=3.0.0 in /Users/wesleydyk/.pyenv/versions/3.10.14/envs/afsdemos/lib/python3.10/site-packages (from bitstring<5,>=4.1.2->emucore-direct==1.0.7->eqc_models) (3.4.2)\n",
      "Requirement already satisfied: six>=1.5 in /Users/wesleydyk/.pyenv/versions/3.10.14/envs/afsdemos/lib/python3.10/site-packages (from python-dateutil>=2.8.2->pandas<3,>=2.1.0->eqc_models) (1.17.0)\n",
      "Requirement already satisfied: charset-normalizer<3,>=2 in /Users/wesleydyk/.pyenv/versions/3.10.14/envs/afsdemos/lib/python3.10/site-packages (from requests<3,>=2.22.1->qci-client<6,>=5->eqc_models) (2.1.1)\n",
      "Requirement already satisfied: idna<4,>=2.5 in /Users/wesleydyk/.pyenv/versions/3.10.14/envs/afsdemos/lib/python3.10/site-packages (from requests<3,>=2.22.1->qci-client<6,>=5->eqc_models) (3.10)\n",
      "Requirement already satisfied: certifi>=2017.4.17 in /Users/wesleydyk/.pyenv/versions/3.10.14/envs/afsdemos/lib/python3.10/site-packages (from requests<3,>=2.22.1->qci-client<6,>=5->eqc_models) (2025.6.15)\n",
      "Requirement already satisfied: urllib3<1.27,>=1.21.1 in /Users/wesleydyk/.pyenv/versions/3.10.14/envs/afsdemos/lib/python3.10/site-packages (from requests<3,>=2.22.1->qci-client<6,>=5->eqc_models) (1.26.20)\n",
      "\u001b[33mWARNING: Ignoring invalid distribution -rpcio (/Users/wesleydyk/.pyenv/versions/3.10.14/envs/afsdemos/lib/python3.10/site-packages)\u001b[0m\u001b[33m\n",
      "\u001b[0m\u001b[33mWARNING: Ignoring invalid distribution -rpcio (/Users/wesleydyk/.pyenv/versions/3.10.14/envs/afsdemos/lib/python3.10/site-packages)\u001b[0m\u001b[33m\n",
      "\u001b[0m\u001b[33mWARNING: Ignoring invalid distribution -rpcio (/Users/wesleydyk/.pyenv/versions/3.10.14/envs/afsdemos/lib/python3.10/site-packages)\u001b[0m\u001b[33m\n",
      "\u001b[0m\u001b[33mWARNING: Ignoring invalid distribution -rpcio (/Users/wesleydyk/.pyenv/versions/3.10.14/envs/afsdemos/lib/python3.10/site-packages)\u001b[0m\u001b[33m\n",
      "\u001b[0m\n",
      "\u001b[1m[\u001b[0m\u001b[34;49mnotice\u001b[0m\u001b[1;39;49m]\u001b[0m\u001b[39;49m A new release of pip is available: \u001b[0m\u001b[31;49m23.0.1\u001b[0m\u001b[39;49m -> \u001b[0m\u001b[32;49m25.2\u001b[0m\n",
      "\u001b[1m[\u001b[0m\u001b[34;49mnotice\u001b[0m\u001b[1;39;49m]\u001b[0m\u001b[39;49m To update, run: \u001b[0m\u001b[32;49mpip install --upgrade pip\u001b[0m\n"
     ]
    }
   ],
   "source": [
    "!pip install eqc_models\n",
    "import os\n",
    "import numpy as np\n",
    "from eqc_models.base import PolynomialModel\n",
    "from eqc_models.solvers import Dirac3ContinuousCloudSolver\n",
    "try:\n",
    "    from google.colab import userdata\n",
    "except ImportError:\n",
    "    userdata = None"
   ]
  },
  {
   "cell_type": "markdown",
   "id": "459a4d16",
   "metadata": {},
   "source": [
    "## API Keys"
   ]
  },
  {
   "cell_type": "code",
   "execution_count": 2,
   "id": "a515a223",
   "metadata": {},
   "outputs": [],
   "source": [
    "# Define the API URL and token  for QCI\n",
    "api_url =\"https://api.qci-prod.com\"\n",
    "if userdata is None:\n",
    "    api_token = \"\" # replace or use environment variables to configure\n",
    "else:\n",
    "    api_token = userdata.get(\"QCI_TOKEN\")\n",
    "    os.environ[\"QCI_TOKEN\"] = api_token\n",
    "    os.environ[\"QCI_API_URL\"] = api_url"
   ]
  },
  {
   "cell_type": "markdown",
   "id": "029d0249-6a6f-4560-9032-1aacd404c9da",
   "metadata": {},
   "source": [
    "## Cubic Example\n",
    "$$\n",
    "E(x) = -0.75x_1^2-0.25x_2^2-x_3^2 + x_1x_2x_3\n",
    "$$"
   ]
  },
  {
   "cell_type": "code",
   "execution_count": 3,
   "id": "f2844bdd-4e87-4100-801c-27b42496c658",
   "metadata": {},
   "outputs": [],
   "source": [
    "R = 2\n",
    "coefficients = [-0.75, -0.25, -1, 1]\n",
    "indices = [(0, 1, 1), (0, 2, 2), (0, 3, 3), (1, 2, 3)]\n",
    "\n",
    "# Create the polynomial model\n",
    "model = PolynomialModel(coefficients, indices)\n",
    "model.upper_bound = R*np.ones((3,)) # Upper bounds 2 for 3 variables"
   ]
  },
  {
   "cell_type": "code",
   "execution_count": 4,
   "id": "4fd77157-7388-4562-89b2-f39015325e9d",
   "metadata": {},
   "outputs": [
    {
     "name": "stdout",
     "output_type": "stream",
     "text": [
      "2025-08-28 22:13:17 - Dirac allocation balance = 0 s (unmetered)\n",
      "2025-08-28 22:13:17 - Job submitted: job_id='68b128dd8060c9339796369d'\n",
      "2025-08-28 22:13:17 - QUEUED\n",
      "2025-08-28 22:13:19 - RUNNING\n",
      "2025-08-28 22:13:22 - COMPLETED\n",
      "2025-08-28 22:13:25 - Dirac allocation balance = 0 s (unmetered)\n",
      "[[2, 0, 0], [2, 1e-07, 0]]\n",
      "[-3, -3]\n",
      "[3, 2]\n"
     ]
    }
   ],
   "source": [
    "solver = Dirac3ContinuousCloudSolver(url=api_url, api_token=api_token)\n",
    "response = solver.solve(model, sum_constraint=2, relaxation_schedule=1, num_samples=5) # Set the sum constraint to 2 and relaxation schedule to 1, 5 samples.\n",
    "print(response[\"results\"][\"solutions\"])\n",
    "print(response[\"results\"][\"energies\"])\n",
    "print(response[\"results\"][\"counts\"])"
   ]
  },
  {
   "cell_type": "markdown",
   "id": "50729331",
   "metadata": {},
   "source": [
    "High `mean_photon_number` : Corresponds to higher-intensity pulses. This forces the system to converge more quickly, but it increases the risk of getting trapped in a sub-optimal (local) minimum."
   ]
  },
  {
   "cell_type": "code",
   "execution_count": 5,
   "id": "7098b8ed-ca6b-4ca6-9445-1e9c252df898",
   "metadata": {},
   "outputs": [
    {
     "name": "stdout",
     "output_type": "stream",
     "text": [
      "2025-08-28 22:13:26 - Dirac allocation balance = 0 s (unmetered)\n",
      "2025-08-28 22:13:26 - Job submitted: job_id='68b128e68060c9339796369f'\n",
      "2025-08-28 22:13:26 - QUEUED\n",
      "2025-08-28 22:13:31 - RUNNING\n",
      "2025-08-28 22:13:34 - COMPLETED\n",
      "2025-08-28 22:13:36 - Dirac allocation balance = 0 s (unmetered)\n",
      "[[2, 0, 0], [2, 1e-07, 1e-07]]\n",
      "[-3, -3]\n",
      "[6, 4]\n"
     ]
    }
   ],
   "source": [
    "solver = Dirac3ContinuousCloudSolver(url=api_url, api_token=api_token)\n",
    "response = solver.solve(model, sum_constraint=2, relaxation_schedule=1, num_samples=10, mean_photon_number=0.0066666)\n",
    "print(response[\"results\"][\"solutions\"])\n",
    "print(response[\"results\"][\"energies\"])\n",
    "print(response[\"results\"][\"counts\"])"
   ]
  },
  {
   "cell_type": "markdown",
   "id": "e3efdb6b",
   "metadata": {},
   "source": [
    "Low `mean_photon_number` : Corresponds to lower-intensity pulses. This allows the solver to better explore the problem's energy landscape to find the true optimal solution, but it may take longer to settle on a final answer."
   ]
  },
  {
   "cell_type": "code",
   "execution_count": 6,
   "id": "c7852722-06a9-4a70-8f77-04c3a3cb6f7e",
   "metadata": {},
   "outputs": [
    {
     "name": "stdout",
     "output_type": "stream",
     "text": [
      "2025-08-28 22:13:38 - Dirac allocation balance = 0 s (unmetered)\n",
      "2025-08-28 22:13:38 - Job submitted: job_id='68b128f28060c933979636a1'\n",
      "2025-08-28 22:13:38 - QUEUED\n",
      "2025-08-28 22:13:40 - RUNNING\n",
      "2025-08-28 22:13:56 - COMPLETED\n",
      "2025-08-28 22:13:58 - Dirac allocation balance = 0 s (unmetered)\n",
      "[[0, 0, 2], [2, 0, 0]]\n",
      "[-4, -3]\n",
      "[3, 2]\n"
     ]
    }
   ],
   "source": [
    "solver = Dirac3ContinuousCloudSolver(url=api_url, api_token=api_token)\n",
    "response = solver.solve(model, sum_constraint=2, relaxation_schedule=1, num_samples=5, mean_photon_number=6.67e-05)\n",
    "print(response[\"results\"][\"solutions\"])\n",
    "print(response[\"results\"][\"energies\"])\n",
    "print(response[\"results\"][\"counts\"])"
   ]
  },
  {
   "cell_type": "code",
   "execution_count": 7,
   "id": "21581ea7-cb4d-434c-9db9-907adb4cb0d6",
   "metadata": {},
   "outputs": [
    {
     "name": "stdout",
     "output_type": "stream",
     "text": [
      "-4.0\n",
      "-3.0\n"
     ]
    }
   ],
   "source": [
    "for sol in response[\"results\"][\"solutions\"]:\n",
    "    print(model.polynomial.evaluate(np.array(sol)))"
   ]
  },
  {
   "cell_type": "markdown",
   "id": "c29c43d6-7db6-4807-a225-8cb3967df3b6",
   "metadata": {},
   "source": [
    "## Slack Qudit\n",
    "For most problems, the sum of all variables is not known beforehand. To support this requirement, a \"slack\" qudit can be used.\n",
    "\n",
    "This polynomial is minimized with $x_1=0,x_2=0$.\n",
    "\n",
    "$$\n",
    "E(x)=x_1+x_2+x_1x_2\n",
    "$$"
   ]
  },
  {
   "cell_type": "code",
   "execution_count": 8,
   "id": "35f691e6-72e1-488e-b58f-6618ef621686",
   "metadata": {},
   "outputs": [],
   "source": [
    "coefficients = [1, 1, 1]\n",
    "indices = [(0, 1), (0, 2), (1, 2)]\n",
    "model = PolynomialModel(coefficients, indices)\n",
    "model.upper_bound = np.ones((2,))\n",
    "model.machine_slacks = 1"
   ]
  },
  {
   "cell_type": "markdown",
   "id": "632b3f02-612a-4994-b7e0-413612e59f08",
   "metadata": {},
   "source": [
    "Notice the extra value in the solution."
   ]
  },
  {
   "cell_type": "code",
   "execution_count": 9,
   "id": "18996624-dcfa-4e3f-8ed1-8e684b7862b9",
   "metadata": {},
   "outputs": [
    {
     "name": "stdout",
     "output_type": "stream",
     "text": [
      "2025-08-28 22:13:59 - Dirac allocation balance = 0 s (unmetered)\n",
      "2025-08-28 22:13:59 - Job submitted: job_id='68b129088060c933979636a2'\n",
      "2025-08-28 22:14:00 - QUEUED\n",
      "2025-08-28 22:14:02 - RUNNING\n",
      "2025-08-28 22:14:05 - COMPLETED\n",
      "2025-08-28 22:14:07 - Dirac allocation balance = 0 s (unmetered)\n",
      "[[0, 0, 1]]\n",
      "[0]\n",
      "[5]\n"
     ]
    }
   ],
   "source": [
    "response = solver.solve(model, sum_constraint=1, num_samples=5, relaxation_schedule=1)\n",
    "print(response[\"results\"][\"solutions\"])\n",
    "print(response[\"results\"][\"energies\"])\n",
    "print(response[\"results\"][\"counts\"])"
   ]
  }
 ],
 "metadata": {
  "kernelspec": {
   "display_name": "afsdemos",
   "language": "python",
   "name": "python3"
  },
  "language_info": {
   "codemirror_mode": {
    "name": "ipython",
    "version": 3
   },
   "file_extension": ".py",
   "mimetype": "text/x-python",
   "name": "python",
   "nbconvert_exporter": "python",
   "pygments_lexer": "ipython3",
   "version": "3.10.14"
  }
 },
 "nbformat": 4,
 "nbformat_minor": 5
}
