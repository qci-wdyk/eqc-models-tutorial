{
 "cells": [
  {
   "cell_type": "markdown",
   "id": "843b0f27",
   "metadata": {},
   "source": [
    "<div align=\"center\">\n",
    "\n",
    "# Dirac-3 Continuous\n",
    "\n",
    "<h4>\n",
    "  Wesley Dyk<br>\n",
    "  <small style=\"font-weight: normal;\">\n",
    "    Senior Quantum Solutions Architect<br>\n",
    "    Quantum Computing Inc.\n",
    "  </small>\n",
    "</h4>\n",
    "\n",
    "<br>\n",
    "\n",
    "[![Open in Colab](https://colab.research.google.com/assets/colab-badge.svg)](https://colab.research.google.com/github/qci-wdyk/eqc-models-tutorial/blob/main/tutorial03-continuous.ipynb)\n",
    "\n",
    "</div>"
   ]
  },
  {
   "cell_type": "markdown",
   "id": "5560d42a-86ab-4371-8e40-abae59ed772f",
   "metadata": {},
   "source": [
    "## Encoding\n",
    "\n",
    "To encode variables in continuous values, Dirac-3 uses photon count in a time bin as a linearly scaled representation of the value for the qudit associated with that time bin. To obtain the qudit values, the photon counts across all qudits are normalized to a total equal to the sum constraint value. Where $R$ is the sum constraint value, $c_i$ is the photon count for time bin $i$, \n",
    "$$\n",
    "x_i = R \\left(\\frac{c_i}{\\sum_j c_j}\\right)\n",
    "$$\n",
    "The details on how the photon counts can represent this are proprietary. Each qudit is represented by a discrete number of levels. This number of levels subject to the sensitivity of the device, given environmental changes. The minimum number of levels is 200, which directly corresponds to the minimum sensitivity of the device in decibels, approximately 23 dB. The max sensitivity that Dirac-3 can achieve currently is 40 dB. This corresponds to 10,000 levels. \n",
    "\n",
    "## Sum Constraint\n",
    "In the previous tutorial, the `sum_constraint` parameter was introduced.\n",
    "$$\n",
    "\\sum_i x_i = R\n",
    "$$\n",
    "\n",
    "## Distillation\n",
    "There isn't an error correction scheme needed for this computing paradigm like there is for gate model devices. The EQC does have to mitigate shot noise and the output values could have an error rate of up to $\\sqrt{c_i}$. This provides an opportunity for post-processing that we call distillation, done using sampling from distributions based on the state vector ($(c_0, c_1,\\ldots,c_{n-1})$) given by the device. Distillation is triggered by requesting a solution precision.\n",
    "\n",
    "## Supported Polynomial\n",
    "Dirac-3 has the capability of representing up to fifth-order terms:\n",
    "$$\n",
    "E(x)=\\sum_i C_i x_i + \\sum_i\\sum_j J_{ij}x_ix_j + \\sum_i\\sum_j\\sum_k T_{ijk} x_ix_jx_k + \\sum_i\\sum_j\\sum_k\\sum_l Q_{ijkl} x_ix_jx_kx_l+ \\sum_i\\sum_j\\sum_k\\sum_l\\sum_m P_{ijklm} x_ix_jx_kx_lx_m .\n",
    "$$\n",
    "\n",
    "## Device Configuration Parameters\n",
    "\n",
    "Dirac-3 supports three parameters which directly impact the evolution of a solution sample.\n",
    "\n",
    "- `relaxation_schedule` is a parameter which represents the choice of one of 4 preconfigured parameter settings. 1 is a choice that also includes an artificial limit on the number of iterations. For the options 2, 3 and 4, the higher the number, the higher the probability of finding the ground state in a single sample. Trade-offs between the number of samples requested and relaxation schedule can lead to more efficient sampling.\n",
    "- `mean_photon_number` sets the average number of photons in every quantum state. Allowed values are floating point numbers between 6.67e-05 and 0.0066666.\n",
    "- `quantum_fluctuation_coefficient` sets the amount of loss introduced into the system for each loop in the measurement process. Allowed values are integers between 1 and 50.\n"
   ]
  },
  {
   "cell_type": "markdown",
   "id": "56c987c2",
   "metadata": {},
   "source": [
    "## Imports"
   ]
  },
  {
   "cell_type": "code",
   "execution_count": 1,
   "id": "98c3efab-3be2-4fa5-85c8-bbf9a97b96eb",
   "metadata": {},
   "outputs": [
    {
     "name": "stderr",
     "output_type": "stream",
     "text": [
      "WARNING:root:eqc-direct package not available\n"
     ]
    }
   ],
   "source": [
    "import numpy as np\n",
    "from eqc_models.base import PolynomialModel\n",
    "from eqc_models.solvers import Dirac3ContinuousCloudSolver"
   ]
  },
  {
   "cell_type": "markdown",
   "id": "459a4d16",
   "metadata": {},
   "source": [
    "## API Keys"
   ]
  },
  {
   "cell_type": "code",
   "execution_count": null,
   "id": "a515a223",
   "metadata": {},
   "outputs": [],
   "source": [
    "# Define the API URL and token  for QCI\n",
    "api_url =\"https://api.qci-prod.com\"\n",
    "api_token = \"\" # Replace with your actual API token"
   ]
  },
  {
   "cell_type": "markdown",
   "id": "029d0249-6a6f-4560-9032-1aacd404c9da",
   "metadata": {},
   "source": [
    "## Cubic Example\n",
    "$$\n",
    "E(x) = -0.75x_1^2-0.25x_2^2-x_3^2 + x_1x_2x_3\n",
    "$$"
   ]
  },
  {
   "cell_type": "code",
   "execution_count": 3,
   "id": "f2844bdd-4e87-4100-801c-27b42496c658",
   "metadata": {},
   "outputs": [],
   "source": [
    "R = 2\n",
    "coefficients = [-0.75, -0.25, -1, 1]\n",
    "indices = [(0, 1, 1), (0, 2, 2), (0, 3, 3), (1, 2, 3)]\n",
    "\n",
    "# Create the polynomial model\n",
    "model = PolynomialModel(coefficients, indices)\n",
    "model.upper_bound = R*np.ones((3,)) # Upper bounds 2 for 3 variables"
   ]
  },
  {
   "cell_type": "code",
   "execution_count": 4,
   "id": "4fd77157-7388-4562-89b2-f39015325e9d",
   "metadata": {},
   "outputs": [
    {
     "name": "stdout",
     "output_type": "stream",
     "text": [
      "2025-08-14 17:34:21 - Dirac allocation balance = 9645 s (unmetered)\n",
      "2025-08-14 17:34:21 - Job submitted: job_id='689e565c8060c933979630e7'\n",
      "2025-08-14 17:34:21 - QUEUED\n",
      "2025-08-14 17:54:38 - RUNNING\n",
      "2025-08-14 17:54:40 - COMPLETED\n",
      "2025-08-14 17:54:43 - Dirac allocation balance = 9645 s (unmetered)\n",
      "[[2, 0, 1e-07], [2, 0, 0], [2, 1e-07, 0], [2, 1e-07, 1e-07]]\n",
      "[-3, -3, -3, -3]\n",
      "[2, 1, 1, 1]\n"
     ]
    }
   ],
   "source": [
    "solver = Dirac3ContinuousCloudSolver(url=api_url, api_token=api_token)\n",
    "response = solver.solve(model, sum_constraint=2, relaxation_schedule=1, num_samples=5) # Set the sum constraint to 2 and relaxation schedule to 1, 5 samples.\n",
    "print(response[\"results\"][\"solutions\"])\n",
    "print(response[\"results\"][\"energies\"])\n",
    "print(response[\"results\"][\"counts\"])"
   ]
  },
  {
   "cell_type": "markdown",
   "id": "50729331",
   "metadata": {},
   "source": [
    "High `mean_photon_number` : Corresponds to higher-intensity pulses. This forces the system to converge more quickly, but it increases the risk of getting trapped in a sub-optimal (local) minimum."
   ]
  },
  {
   "cell_type": "code",
   "execution_count": null,
   "id": "7098b8ed-ca6b-4ca6-9445-1e9c252df898",
   "metadata": {},
   "outputs": [
    {
     "name": "stdout",
     "output_type": "stream",
     "text": [
      "2025-08-14 22:31:01 - Dirac allocation balance = 9645 s (unmetered)\n",
      "2025-08-14 22:31:01 - Job submitted: job_id='689e9be58060c93397963201'\n",
      "2025-08-14 22:31:02 - QUEUED\n",
      "2025-08-14 22:31:04 - RUNNING\n",
      "2025-08-14 22:31:07 - COMPLETED\n",
      "2025-08-14 22:31:09 - Dirac allocation balance = 9645 s (unmetered)\n",
      "[[2, 0, 0], [2, 1e-07, 0], [2, 0, 1e-07], [2, 1e-07, 1e-07]]\n",
      "[-3, -3, -3, -3]\n",
      "[4, 4, 1, 1]\n"
     ]
    }
   ],
   "source": [
    "solver = Dirac3ContinuousCloudSolver(url=api_url, api_token=api_token)\n",
    "response = solver.solve(model, sum_constraint=2, relaxation_schedule=1, num_samples=10, mean_photon_number=0.0066666)\n",
    "print(response[\"results\"][\"solutions\"])\n",
    "print(response[\"results\"][\"energies\"])\n",
    "print(response[\"results\"][\"counts\"])"
   ]
  },
  {
   "cell_type": "markdown",
   "id": "e3efdb6b",
   "metadata": {},
   "source": [
    "Low `mean_photon_number` : Corresponds to lower-intensity pulses. This allows the solver to better explore the problem's energy landscape to find the true optimal solution, but it may take longer to settle on a final answer."
   ]
  },
  {
   "cell_type": "code",
   "execution_count": 14,
   "id": "c7852722-06a9-4a70-8f77-04c3a3cb6f7e",
   "metadata": {},
   "outputs": [
    {
     "name": "stdout",
     "output_type": "stream",
     "text": [
      "2025-08-14 22:32:05 - Dirac allocation balance = 9645 s (unmetered)\n",
      "2025-08-14 22:32:05 - Job submitted: job_id='689e9c258060c93397963203'\n",
      "2025-08-14 22:32:06 - QUEUED\n",
      "2025-08-14 22:32:08 - RUNNING\n",
      "2025-08-14 22:32:31 - COMPLETED\n",
      "2025-08-14 22:32:34 - Dirac allocation balance = 9645 s (unmetered)\n",
      "[[0, 0, 2], [1e-07, 0, 2], [2, 0, 1e-07], [2, 1e-07, 0]]\n",
      "[-4, -4, -3, -3]\n",
      "[2, 1, 1, 1]\n"
     ]
    }
   ],
   "source": [
    "solver = Dirac3ContinuousCloudSolver(url=api_url, api_token=api_token)\n",
    "response = solver.solve(model, sum_constraint=2, relaxation_schedule=1, num_samples=5, mean_photon_number=6.67e-05)\n",
    "print(response[\"results\"][\"solutions\"])\n",
    "print(response[\"results\"][\"energies\"])\n",
    "print(response[\"results\"][\"counts\"])"
   ]
  },
  {
   "cell_type": "code",
   "execution_count": 15,
   "id": "21581ea7-cb4d-434c-9db9-907adb4cb0d6",
   "metadata": {},
   "outputs": [
    {
     "name": "stdout",
     "output_type": "stream",
     "text": [
      "[-4.0]\n",
      "[-4.000000000000007]\n",
      "[-3.00000000000001]\n",
      "[-3.0000000000000027]\n"
     ]
    }
   ],
   "source": [
    "for sol in response[\"results\"][\"solutions\"]:\n",
    "    print(model.polynomial.evaluate(np.array(sol)))"
   ]
  },
  {
   "cell_type": "markdown",
   "id": "c29c43d6-7db6-4807-a225-8cb3967df3b6",
   "metadata": {},
   "source": [
    "## Slack Qudit\n",
    "For most problems, the sum of all variables is not known beforehand. To support this requirement, a \"slack\" qudit can be used.\n",
    "\n",
    "This polynomial is minimized with $x_1=0,x_2=0$.\n",
    "\n",
    "$$\n",
    "E(x)=x_1+x_2+x_1x_2\n",
    "$$"
   ]
  },
  {
   "cell_type": "code",
   "execution_count": 16,
   "id": "35f691e6-72e1-488e-b58f-6618ef621686",
   "metadata": {},
   "outputs": [],
   "source": [
    "coefficients = [1, 1, 1]\n",
    "indices = [(0, 1), (0, 2), (1, 2)]\n",
    "model = PolynomialModel(coefficients, indices)\n",
    "model.upper_bound = np.ones((2,))\n",
    "model.machine_slacks = 1"
   ]
  },
  {
   "cell_type": "markdown",
   "id": "632b3f02-612a-4994-b7e0-413612e59f08",
   "metadata": {},
   "source": [
    "Notice the extra value in the solution."
   ]
  },
  {
   "cell_type": "code",
   "execution_count": 17,
   "id": "18996624-dcfa-4e3f-8ed1-8e684b7862b9",
   "metadata": {},
   "outputs": [
    {
     "name": "stdout",
     "output_type": "stream",
     "text": [
      "2025-08-14 22:32:35 - Dirac allocation balance = 9645 s (unmetered)\n",
      "2025-08-14 22:32:35 - Job submitted: job_id='689e9c438060c93397963204'\n",
      "2025-08-14 22:32:35 - QUEUED\n",
      "2025-08-14 22:32:38 - COMPLETED\n",
      "2025-08-14 22:32:41 - Dirac allocation balance = 9645 s (unmetered)\n",
      "[[0, 0, 1]]\n",
      "[0]\n",
      "[5]\n"
     ]
    }
   ],
   "source": [
    "response = solver.solve(model, sum_constraint=1, num_samples=5, relaxation_schedule=1)\n",
    "print(response[\"results\"][\"solutions\"])\n",
    "print(response[\"results\"][\"energies\"])\n",
    "print(response[\"results\"][\"counts\"])"
   ]
  }
 ],
 "metadata": {
  "kernelspec": {
   "display_name": "neoeqc",
   "language": "python",
   "name": "python3"
  },
  "language_info": {
   "codemirror_mode": {
    "name": "ipython",
    "version": 3
   },
   "file_extension": ".py",
   "mimetype": "text/x-python",
   "name": "python",
   "nbconvert_exporter": "python",
   "pygments_lexer": "ipython3",
   "version": "3.11.13"
  }
 },
 "nbformat": 4,
 "nbformat_minor": 5
}
