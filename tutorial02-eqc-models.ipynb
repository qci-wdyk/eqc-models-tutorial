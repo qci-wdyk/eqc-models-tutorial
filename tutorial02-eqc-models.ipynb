{
 "cells": [
  {
   "cell_type": "markdown",
   "id": "b63dff3d-ddd6-43dc-9783-e2dfbcee4416",
   "metadata": {},
   "source": [
    "<div align=\"center\">\n",
    "\n",
    "# eqc-models Brief\n",
    "\n",
    "<h4>\n",
    "  Wesley Dyk<br>\n",
    "  <small style=\"font-weight: normal;\">\n",
    "    Senior Quantum Solutions Architect<br>\n",
    "    Quantum Computing Inc.\n",
    "  </small>\n",
    "</h4>\n",
    "\n",
    "<br>\n",
    "\n",
    "[![Open in Colab](https://colab.research.google.com/assets/colab-badge.svg)](https://colab.research.google.com/github/qci-wdyk/eqc-models-tutorial/blob/main/tutorial02-eqc-models.ipynb)\n",
    "\n",
    "</div>\n"
   ]
  },
  {
   "cell_type": "markdown",
   "id": "19c79a23-7a3a-4acf-b79e-3be63494a519",
   "metadata": {},
   "source": [
    "\n",
    "## Modeling-first Pattern\n",
    "\n",
    "\n",
    "<img style=\"display: block; margin-left: auto; margin-right: auto;\" src=\"images/model-operator-solver.png\" />\n",
    "\n",
    "**Solvers call for specific operators.**\n",
    "\n",
    "<img style=\"display: block; margin-left: auto; margin-right: auto;\" src=\"images/operator-solver.png\" />\n",
    "\n",
    "## Important Base Classes from eqc-models\n",
    "\n",
    "- `EQCModel`\n",
    "- `QuadraticModel` - offers both QUBO and Polynomial operators\n",
    "- `PolynomialModel` - offers both QUBO and Polynomial operators\n",
    "- `ConstraintsMixIn`\n",
    "- `InequalityConstraintMixin`\n"
   ]
  },
  {
   "cell_type": "markdown",
   "id": "048e5692",
   "metadata": {},
   "source": [
    "## Imports"
   ]
  },
  {
   "cell_type": "code",
   "execution_count": 13,
   "id": "c9a926ba",
   "metadata": {},
   "outputs": [],
   "source": [
    "import numpy as np\n",
    "from eqc_models.base import QuadraticModel\n",
    "from eqc_models.solvers import Dirac1CloudSolver\n",
    "from eqc_models.base.constraints import ConstraintsMixIn\n",
    "from eqc_models.base.polynomial import PolynomialModel\n",
    "class ConstraintExample(ConstraintsMixIn, PolynomialModel):\n",
    "    def __init__(self, coefficients, indices, lhs, rhs):\n",
    "        self.constraints = lhs, rhs\n",
    "        super(ConstraintExample,self).__init__(coefficients, indices)"
   ]
  },
  {
   "cell_type": "markdown",
   "id": "6259d996",
   "metadata": {},
   "source": [
    "## API Keys"
   ]
  },
  {
   "cell_type": "code",
   "execution_count": null,
   "id": "6e65ff81",
   "metadata": {},
   "outputs": [],
   "source": [
    "# Define the API URL and token  for QCI\n",
    "api_url =\"https://api.qci-prod.com\"\n",
    "api_token = \"\" # Replace with your actual API token"
   ]
  },
  {
   "cell_type": "markdown",
   "id": "82b984de-d0c8-44d2-b08b-6ce4880266e0",
   "metadata": {},
   "source": [
    "## Intended Usage\n",
    "\n",
    "`EQCModel` is an \"abstract\" class which defines some key interfaces. \n",
    "`QuadraticModel` and `PolynomialModel` are useful on their own, but the can also be used to build much more useful objects. \n",
    "\n",
    "Uses the **mixin design pattern** to incorporate functionality that can be shared across models and solvers.\n"
   ]
  },
  {
   "cell_type": "markdown",
   "id": "2df4b993-7936-4685-b0cd-40fe9ef992cf",
   "metadata": {},
   "source": [
    "### `QuadraticModel`\n",
    "\n",
    "$$\n",
    "E(x)=\\sum_i C_ix_i + \\sum_{ij} J_{ij}x_ix_j\n",
    "$$\n",
    "\n",
    "Specify a vector of linear coefficients and a matrix of quadratic coefficients. We'll call these `C` and `J`.\n"
   ]
  },
  {
   "cell_type": "code",
   "execution_count": 36,
   "id": "a45595fc-7d4f-4430-89ab-1cbda607b928",
   "metadata": {},
   "outputs": [
    {
     "data": {
      "text/plain": [
       "array([[-1. ,  0.5,  0.5],\n",
       "       [ 0.5, -1. ,  0.5],\n",
       "       [ 0.5,  0.5, -1. ]])"
      ]
     },
     "execution_count": 36,
     "metadata": {},
     "output_type": "execute_result"
    }
   ],
   "source": [
    "# QUBO example\n",
    "C = np.array([-1.0, -1.0, -1.0])\n",
    "J = np.array([[0.0, 1.0, 1.0],\n",
    "              [0.0, 0.0, 1.0],\n",
    "              [0.0, 0.0, 0.0]])\n",
    "model = QuadraticModel(C, J)\n",
    "model.upper_bound = np.ones((3, )) # Set the bounds of the variablees as 1\n",
    "model.qubo.Q"
   ]
  },
  {
   "cell_type": "markdown",
   "id": "c9b97dd7",
   "metadata": {},
   "source": [
    "When you define a problem with integer variables that can be larger than 1, the `QuadraticModel` must translate those integers into a format that the QUBO solver can understand. \n",
    "It does this through a process called **binary expansion**.\n",
    "\n",
    "An integer variable is represented as a sum of weighted binary variables. For an integer `x` that can go up to a bound `B`, its binary expansion would be:\n",
    "\n",
    "\\begin{equation}\n",
    "x = \\sum_{i=0}^{n-1} b_i \\cdot 2^i = 1 \\cdot b_0 + 2 \\cdot b_1 + 4 \\cdot b_2 + \\dots\n",
    "\\end{equation}\n",
    "\n",
    "In summary, the `QuadraticModel` is automatically expands integer problem into a larger, equivalent binary problem so that it can be represented as a valid QUBO matrix."
   ]
  },
  {
   "cell_type": "code",
   "execution_count": 37,
   "id": "03d32833-fe06-4f50-9782-e9a8325e5ea7",
   "metadata": {},
   "outputs": [
    {
     "data": {
      "text/plain": [
       "array([[-1. ,  0. ,  0.5,  1. ,  0.5,  1. ],\n",
       "       [ 0. , -2. ,  1. ,  2. ,  1. ,  2. ],\n",
       "       [ 0.5,  1. , -1. ,  0. ,  0.5,  1. ],\n",
       "       [ 1. ,  2. ,  0. , -2. ,  1. ,  2. ],\n",
       "       [ 0.5,  1. ,  0.5,  1. , -1. ,  0. ],\n",
       "       [ 1. ,  2. ,  1. ,  2. ,  0. , -2. ]], dtype=float32)"
      ]
     },
     "execution_count": 37,
     "metadata": {},
     "output_type": "execute_result"
    }
   ],
   "source": [
    "# QUIO example\n",
    "model.upper_bound = 3*np.ones((3,)) # Set the bounds of the variables as 3\n",
    "model.qubo.Q"
   ]
  },
  {
   "cell_type": "markdown",
   "id": "8ff04ea4",
   "metadata": {},
   "source": [
    "To solve the different problem types, you must selectively run the notebook cells. Please follow the instructions below for the desired model.\n",
    "\n",
    "To Solve the QUBO Problem\n",
    "For the standard QUBO problem (where variables are binary), first run `QUBO example Cell` to define the model with an upper bound of 1, and then run `Solve Problem Cell` to solve it.\n",
    "\n",
    "Run Order: `QUBO example Cell` → `Solve Problem Cell`\n",
    "\n",
    "To Solve the QUIO Problem\n",
    "For the QUIO (integer optimization) problem with an upper bound of 3, first run `QUBO example Cell` to define the model, `QUIO example Cell` to set the upper bound of 3, and then run v solve it.\n",
    "\n",
    "Run Order: `QUIO example Cell` → `Solve Problem Cell`"
   ]
  },
  {
   "cell_type": "code",
   "execution_count": 38,
   "id": "d4d78363-8121-43cc-a445-46bd2ce0adbf",
   "metadata": {},
   "outputs": [
    {
     "name": "stdout",
     "output_type": "stream",
     "text": [
      "2025-08-14 17:28:39 - Dirac allocation balance = 9645 s (unmetered)\n",
      "2025-08-14 17:28:39 - Job submitted: job_id='689e55068060c933979630e5'\n",
      "2025-08-14 17:28:39 - QUEUED\n",
      "2025-08-14 17:28:42 - RUNNING\n",
      "2025-08-14 17:28:52 - COMPLETED\n",
      "2025-08-14 17:28:55 - Dirac allocation balance = 9645 s (unmetered)\n"
     ]
    },
    {
     "data": {
      "text/plain": [
       "(array([0, 0, 3], dtype=int64), -3.0)"
      ]
     },
     "execution_count": 38,
     "metadata": {},
     "output_type": "execute_result"
    }
   ],
   "source": [
    "# Solve Problem\n",
    "solver = Dirac1CloudSolver(url=api_url, api_token=api_token)\n",
    "Q = model.qubo.Q\n",
    "# qn = Q.shape[0]\n",
    "# qubomodel = QuadraticModel(np.zeros((qn,)), Q)\n",
    "# qubomodel.upper_bound = np.ones((qn,))\n",
    "response = solver.solve(model) # qubomodel)\n",
    "# response[\"results\"][\"solutions\"], model.qubo.evaluate(np.array(response[\"results\"][\"solutions\"][0]))\n",
    "solution = model.decode(np.array(response[\"results\"][\"solutions\"][0]), \"qubo\")\n",
    "solution, model.evaluate(solution)"
   ]
  },
  {
   "cell_type": "markdown",
   "id": "2ae5a67a-30aa-4905-a15d-37c14eab49bc",
   "metadata": {},
   "source": [
    "### `PolynomialModel`\n",
    "\n",
    "$$\n",
    "E(x)=\\sum_i C_i x_i + \\sum_i\\sum_j J_{ij}x_ix_j + \\sum_i\\sum_j\\sum_k T_{ijk} x_ix_jx_k + \\sum_i\\sum_j\\sum_k\\sum_l Q_{ijkl} x_ix_jx_kx_l+ \\sum_i\\sum_j\\sum_k\\sum_l\\sum_m P_{ijklm} x_ix_jx_kx_lx_m .\n",
    "$$\n",
    "\n",
    "### `ConstraintsMixIn`\n",
    "\n",
    "The constraint mixin defines a standard method to convert a linear system of equality constraints into a penalty function, which is 0 for feasible solutions and positive for infeasible solutions.\n",
    "$$\n",
    "Ax=b\\Rightarrow P(x)=(Ax-b)^2\n",
    "$$\n",
    "\n",
    "### `InequalityConstraintMixIn`\n",
    "\n",
    "This adds a `senses` attribute which allows the definition of constraints with inequalities. These become equality constraints and are converted to penalties using the `Constraints\n"
   ]
  },
  {
   "cell_type": "code",
   "execution_count": null,
   "id": "7df06395-9bd5-4af3-bcfb-c796b3e48bdd",
   "metadata": {},
   "outputs": [
    {
     "name": "stdout",
     "output_type": "stream",
     "text": [
      "2025-08-14 17:27:38 - Dirac allocation balance = 9645 s (unmetered)\n",
      "2025-08-14 17:27:39 - Job submitted: job_id='689e54ca8060c933979630e3'\n",
      "2025-08-14 17:27:39 - QUEUED\n",
      "2025-08-14 17:27:41 - RUNNING\n",
      "2025-08-14 17:27:49 - COMPLETED\n",
      "2025-08-14 17:27:52 - Dirac allocation balance = 9645 s (unmetered)\n",
      "[1 0 0]\n"
     ]
    },
    {
     "data": {
      "text/plain": [
       "(array([1, 0, 0]), array([-1.]))"
      ]
     },
     "execution_count": 35,
     "metadata": {},
     "output_type": "execute_result"
    }
   ],
   "source": [
    "# Constraint Example\n",
    "A = np.array([[1, 0, -1]]) # left-hand side of the constraint\n",
    "b = np.array([0]) # right-hand side of the constraint\n",
    "\n",
    "# Coefficients and indices of the polynomial\n",
    "coeff = model.polynomial.coefficients\n",
    "indices = model.polynomial.indices\n",
    "\n",
    "# Create a new model with constraints\n",
    "constraint_model = ConstraintExample(coeff, indices, A, b)\n",
    "constraint_model.upper_bound = np.ones((3,)) # Upper bound of 1\n",
    "constraint_model.penalty_multiplier = alpha = 2 # Penalty multiplier\n",
    "\n",
    "# Solve the constrained problem\n",
    "response = solver.solve(constraint_model)\n",
    "\n",
    "# Get the solution and evaluate\n",
    "solution = np.array(response[\"results\"][\"solutions\"][0])\n",
    "\n",
    "# Print solution and corrected objective value\n",
    "np.array(solution), constraint_model.polynomial.pure_evaluate(solution) + alpha * constraint_model.offset "
   ]
  },
  {
   "cell_type": "markdown",
   "id": "36824934-3f14-419f-9d75-8d6c3afea1b4",
   "metadata": {},
   "source": [
    "## Problem Type Classes\n",
    "\n",
    "Two categories- ML and Decision Optimization.\n",
    "\n",
    "### Decision Optimization\n",
    "\n",
    "- `QAPModel`\n",
    "- `SetPartitionModel`\n",
    "- `SetCoverModel`\n",
    "- `MTZTSPModel`\n",
    "- `AllocationModel`\n",
    "- `PortMomentum`\n",
    "- `MaxCutModel`\n",
    "- `GraphPartitionModel`\n",
    "\n",
    "### Machine Learning\n",
    "\n",
    "- `QBoostClassifier`\n",
    "- `QSVMClassifier`\n",
    "- `PCA`\n",
    "- `LinearRegression`\n",
    "\n",
    "### Algorithms\n",
    "\n",
    "- `PenaltyMultiplierAlgorithm`"
   ]
  }
 ],
 "metadata": {
  "kernelspec": {
   "display_name": "neoeqc",
   "language": "python",
   "name": "python3"
  },
  "language_info": {
   "codemirror_mode": {
    "name": "ipython",
    "version": 3
   },
   "file_extension": ".py",
   "mimetype": "text/x-python",
   "name": "python",
   "nbconvert_exporter": "python",
   "pygments_lexer": "ipython3",
   "version": "3.11.13"
  }
 },
 "nbformat": 4,
 "nbformat_minor": 5
}
