{
 "cells": [
  {
   "cell_type": "markdown",
   "id": "c09fda07",
   "metadata": {},
   "source": [
    "<div align=\"center\">\n",
    "\n",
    "# Dirac-3 Discrete\n",
    "<h4>\n",
    "  Wesley Dyk<br>\n",
    "  <small style=\"font-weight: normal;\">\n",
    "    Senior Quantum Solutions Architect<br>\n",
    "    Quantum Computing Inc.\n",
    "  </small>\n",
    "</h4>\n",
    "\n",
    "<br>\n",
    "\n",
    "[![Open in Colab](https://colab.research.google.com/assets/colab-badge.svg)](https://colab.research.google.com/github/qci-wdyk/eqc-models-tutorial/blob/main/tutorial04-discrete.ipynb)\n",
    "\n",
    "</div>"
   ]
  },
  {
   "cell_type": "markdown",
   "id": "69e4ea42-a7ce-469c-848f-f6ac10052b48",
   "metadata": {},
   "source": [
    "## Encoding\n",
    "\n",
    "Dirac-3 encodes integer variables using 1 value in a time bin for a certain variable. This means that a problem with two binary variables uses four time bins. Distillation is also required for this encoding. Considering the time bins as a histogram, one possibility for decoding the state vector is choosing the mode of the time bins associated with a single qudit. Another option is to sample the distributions for each qudit and generate a large number of samples, then choose the best samples for the number of samples requested.\n",
    "\n",
    "This encoding causes the number of qudits allowed to be restricted by the sum of the levels chosen for the qudits. The values 0 and 1 for a qudit are two distinct levels.\n",
    "\n",
    "### How eqc-models handles levels\n",
    "\n",
    "The eqc-models package handles setting the levels for integer problems through the `upper_bound` attribute on a model. Setting `model.upper_bound=np.ones((n,))` indicates 2 levels for each of `n` variables. So, a variable can take on integer values between 0 and levels minus 1. *Note: integer support beyond 2 levels is experimental.*\n",
    "\n",
    "## No Sum Constraint\n",
    "\n",
    "This encoding does not require a sum constraint value to be supplied."
   ]
  },
  {
   "cell_type": "markdown",
   "id": "5cbeb509",
   "metadata": {},
   "source": [
    "## Imports"
   ]
  },
  {
   "cell_type": "code",
   "execution_count": 7,
   "id": "3b9f4d45-66dd-4912-aac6-83ed34e4c17f",
   "metadata": {},
   "outputs": [],
   "source": [
    "import numpy as np\n",
    "from eqc_models.base import PolynomialModel\n",
    "from eqc_models.solvers import Dirac3IntegerCloudSolver"
   ]
  },
  {
   "cell_type": "markdown",
   "id": "91ab63a1",
   "metadata": {},
   "source": [
    "## API Keys\n"
   ]
  },
  {
   "cell_type": "code",
   "execution_count": null,
   "id": "caa90d89",
   "metadata": {},
   "outputs": [],
   "source": [
    "# Define the API URL and token  for QCI\n",
    "api_url =\"https://api.qci-prod.com\"\n",
    "api_token = \"\" # Replace with your actual API token"
   ]
  },
  {
   "cell_type": "markdown",
   "id": "52874237-cbd4-4d84-bf84-30df31fa696e",
   "metadata": {},
   "source": [
    "## Polynomial\n",
    "$$\n",
    "E(x) = -x_1^2-x_2^2+2x_1x_2\n",
    "$$"
   ]
  },
  {
   "cell_type": "code",
   "execution_count": 9,
   "id": "db26c472-32f8-4b61-ad5a-8690ae79b82f",
   "metadata": {},
   "outputs": [],
   "source": [
    "coefficients = [-1, -1, 2]\n",
    "indices = [(1, 1), (2, 2), (1, 2)]\n",
    "model = PolynomialModel(coefficients, indices)\n",
    "model.upper_bound = np.ones((2,))"
   ]
  },
  {
   "cell_type": "code",
   "execution_count": 10,
   "id": "99c5febe-7cc7-473d-b2ac-ee51d1a6e008",
   "metadata": {},
   "outputs": [
    {
     "name": "stdout",
     "output_type": "stream",
     "text": [
      "2025-08-14 23:14:49 - Dirac allocation balance = 9645 s (unmetered)\n",
      "2025-08-14 23:14:49 - Job submitted: job_id='689ea6298060c93397963232'\n",
      "2025-08-14 23:14:50 - QUEUED\n",
      "2025-08-14 23:14:52 - RUNNING\n",
      "2025-08-14 23:14:55 - COMPLETED\n",
      "2025-08-14 23:14:57 - Dirac allocation balance = 9645 s (unmetered)\n"
     ]
    }
   ],
   "source": [
    "solver = Dirac3IntegerCloudSolver(url=api_url, api_token=api_token)\n",
    "response = solver.solve(model, relaxation_schedule=1, num_samples=10, mean_photon_number=0.006)"
   ]
  },
  {
   "cell_type": "code",
   "execution_count": 11,
   "id": "c2689226-c985-486d-a61b-208811619164",
   "metadata": {},
   "outputs": [
    {
     "name": "stdout",
     "output_type": "stream",
     "text": [
      "[[1, 0], [0, 1]]\n",
      "[-1, -1]\n",
      "[9, 1]\n"
     ]
    }
   ],
   "source": [
    "print(response[\"results\"][\"solutions\"])\n",
    "print(response[\"results\"][\"energies\"])\n",
    "print(response[\"results\"][\"counts\"])"
   ]
  }
 ],
 "metadata": {
  "kernelspec": {
   "display_name": "neoeqc",
   "language": "python",
   "name": "python3"
  },
  "language_info": {
   "codemirror_mode": {
    "name": "ipython",
    "version": 3
   },
   "file_extension": ".py",
   "mimetype": "text/x-python",
   "name": "python",
   "nbconvert_exporter": "python",
   "pygments_lexer": "ipython3",
   "version": "3.11.13"
  }
 },
 "nbformat": 4,
 "nbformat_minor": 5
}
