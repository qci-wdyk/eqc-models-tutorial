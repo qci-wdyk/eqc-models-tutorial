{
 "cells": [
  {
   "cell_type": "markdown",
   "id": "c09fda07",
   "metadata": {},
   "source": [
    "<div align=\"center\">\n",
    "\n",
    "# Dirac-3 Discrete\n",
    "<h4>\n",
    "  Wesley Dyk<br>\n",
    "  <small style=\"font-weight: normal;\">\n",
    "    Senior Quantum Solutions Architect<br>\n",
    "    Quantum Computing Inc.\n",
    "  </small>\n",
    "</h4>\n",
    "\n",
    "<br>\n",
    "\n",
    "[![Open in Colab](https://colab.research.google.com/assets/colab-badge.svg)](https://colab.research.google.com/github/qci-wdyk/eqc-models-tutorial/blob/main/tutorial04-discrete.ipynb)\n",
    "\n",
    "</div>"
   ]
  },
  {
   "cell_type": "markdown",
   "id": "69e4ea42-a7ce-469c-848f-f6ac10052b48",
   "metadata": {},
   "source": [
    "## Encoding\n",
    "\n",
    "Dirac-3 encodes integer variables using 1 value in a time bin for a certain variable. This means that a problem with two binary variables uses four time bins. Distillation is also required for this encoding. Considering the time bins as a histogram, one possibility for decoding the state vector is choosing the mode of the time bins associated with a single qudit. Another option is to sample the distributions for each qudit and generate a large number of samples, then choose the best samples for the number of samples requested.\n",
    "\n",
    "This encoding causes the number of qudits allowed to be restricted by the sum of the levels chosen for the qudits. The values 0 and 1 for a qudit are two distinct levels.\n",
    "\n",
    "### How eqc-models handles levels\n",
    "\n",
    "The eqc-models package handles setting the levels for integer problems through the `upper_bound` attribute on a model. Setting `model.upper_bound=np.ones((n,))` indicates 2 levels for each of `n` variables. So, a variable can take on integer values between 0 and levels minus 1. *Note: integer support beyond 2 levels is experimental.*\n",
    "\n",
    "## No Sum Constraint\n",
    "\n",
    "This encoding does not require a sum constraint value to be supplied."
   ]
  },
  {
   "cell_type": "markdown",
   "id": "5cbeb509",
   "metadata": {},
   "source": [
    "## Imports"
   ]
  },
  {
   "cell_type": "code",
   "execution_count": 1,
   "id": "3b9f4d45-66dd-4912-aac6-83ed34e4c17f",
   "metadata": {},
   "outputs": [
    {
     "name": "stdout",
     "output_type": "stream",
     "text": [
      "\u001b[33mWARNING: Ignoring invalid distribution -rpcio (/Users/wesleydyk/.pyenv/versions/3.10.14/envs/afsdemos/lib/python3.10/site-packages)\u001b[0m\u001b[33m\n",
      "\u001b[0m\u001b[33mWARNING: Ignoring invalid distribution -rpcio (/Users/wesleydyk/.pyenv/versions/3.10.14/envs/afsdemos/lib/python3.10/site-packages)\u001b[0m\u001b[33m\n",
      "\u001b[0mRequirement already satisfied: eqc_models in /Users/wesleydyk/.pyenv/versions/3.10.14/envs/afsdemos/lib/python3.10/site-packages (0.14.2)\n",
      "Requirement already satisfied: qci-client<6,>=5 in /Users/wesleydyk/.pyenv/versions/3.10.14/envs/afsdemos/lib/python3.10/site-packages (from eqc_models) (5.0.0)\n",
      "Requirement already satisfied: numpy<2,>=1.22.1 in /Users/wesleydyk/.pyenv/versions/3.10.14/envs/afsdemos/lib/python3.10/site-packages (from eqc_models) (1.26.4)\n",
      "Requirement already satisfied: lightgbm<5,>=4.6.0 in /Users/wesleydyk/.pyenv/versions/3.10.14/envs/afsdemos/lib/python3.10/site-packages (from eqc_models) (4.6.0)\n",
      "Requirement already satisfied: xgboost<4,>=1.7.4 in /Users/wesleydyk/.pyenv/versions/3.10.14/envs/afsdemos/lib/python3.10/site-packages (from eqc_models) (3.0.2)\n",
      "Requirement already satisfied: eqc-direct==2.0.2 in /Users/wesleydyk/.pyenv/versions/3.10.14/envs/afsdemos/lib/python3.10/site-packages (from eqc_models) (2.0.2)\n",
      "Requirement already satisfied: networkx<3,>=2.6.3 in /Users/wesleydyk/.pyenv/versions/3.10.14/envs/afsdemos/lib/python3.10/site-packages (from eqc_models) (2.8.8)\n",
      "Requirement already satisfied: scikit-learn<2,>=1.2.1 in /Users/wesleydyk/.pyenv/versions/3.10.14/envs/afsdemos/lib/python3.10/site-packages (from eqc_models) (1.6.1)\n",
      "Requirement already satisfied: pandas<3,>=2.1.0 in /Users/wesleydyk/.pyenv/versions/3.10.14/envs/afsdemos/lib/python3.10/site-packages (from eqc_models) (2.1.0)\n",
      "Requirement already satisfied: emucore-direct==1.0.7 in /Users/wesleydyk/.pyenv/versions/3.10.14/envs/afsdemos/lib/python3.10/site-packages (from eqc_models) (1.0.7)\n",
      "Requirement already satisfied: grpcio==1.72.1 in /Users/wesleydyk/.pyenv/versions/3.10.14/envs/afsdemos/lib/python3.10/site-packages (from emucore-direct==1.0.7->eqc_models) (1.72.1)\n",
      "Requirement already satisfied: protobuf==3.20.3 in /Users/wesleydyk/.pyenv/versions/3.10.14/envs/afsdemos/lib/python3.10/site-packages (from emucore-direct==1.0.7->eqc_models) (3.20.3)\n",
      "Requirement already satisfied: bitstring<5,>=4.1.2 in /Users/wesleydyk/.pyenv/versions/3.10.14/envs/afsdemos/lib/python3.10/site-packages (from emucore-direct==1.0.7->eqc_models) (4.3.1)\n",
      "Requirement already satisfied: scipy<2,>=1.11.1 in /Users/wesleydyk/.pyenv/versions/3.10.14/envs/afsdemos/lib/python3.10/site-packages (from emucore-direct==1.0.7->eqc_models) (1.15.3)\n",
      "Requirement already satisfied: python-dateutil>=2.8.2 in /Users/wesleydyk/.pyenv/versions/3.10.14/envs/afsdemos/lib/python3.10/site-packages (from pandas<3,>=2.1.0->eqc_models) (2.9.0.post0)\n",
      "Requirement already satisfied: tzdata>=2022.1 in /Users/wesleydyk/.pyenv/versions/3.10.14/envs/afsdemos/lib/python3.10/site-packages (from pandas<3,>=2.1.0->eqc_models) (2025.2)\n",
      "Requirement already satisfied: pytz>=2020.1 in /Users/wesleydyk/.pyenv/versions/3.10.14/envs/afsdemos/lib/python3.10/site-packages (from pandas<3,>=2.1.0->eqc_models) (2025.2)\n",
      "Requirement already satisfied: requests-futures<2,>=1.0.0 in /Users/wesleydyk/.pyenv/versions/3.10.14/envs/afsdemos/lib/python3.10/site-packages (from qci-client<6,>=5->eqc_models) (1.0.2)\n",
      "Requirement already satisfied: requests<3,>=2.22.1 in /Users/wesleydyk/.pyenv/versions/3.10.14/envs/afsdemos/lib/python3.10/site-packages (from qci-client<6,>=5->eqc_models) (2.28.1)\n",
      "Requirement already satisfied: threadpoolctl>=3.1.0 in /Users/wesleydyk/.pyenv/versions/3.10.14/envs/afsdemos/lib/python3.10/site-packages (from scikit-learn<2,>=1.2.1->eqc_models) (3.6.0)\n",
      "Requirement already satisfied: joblib>=1.2.0 in /Users/wesleydyk/.pyenv/versions/3.10.14/envs/afsdemos/lib/python3.10/site-packages (from scikit-learn<2,>=1.2.1->eqc_models) (1.5.1)\n",
      "Requirement already satisfied: bitarray<4.0,>=3.0.0 in /Users/wesleydyk/.pyenv/versions/3.10.14/envs/afsdemos/lib/python3.10/site-packages (from bitstring<5,>=4.1.2->emucore-direct==1.0.7->eqc_models) (3.4.2)\n",
      "Requirement already satisfied: six>=1.5 in /Users/wesleydyk/.pyenv/versions/3.10.14/envs/afsdemos/lib/python3.10/site-packages (from python-dateutil>=2.8.2->pandas<3,>=2.1.0->eqc_models) (1.17.0)\n",
      "Requirement already satisfied: idna<4,>=2.5 in /Users/wesleydyk/.pyenv/versions/3.10.14/envs/afsdemos/lib/python3.10/site-packages (from requests<3,>=2.22.1->qci-client<6,>=5->eqc_models) (3.10)\n",
      "Requirement already satisfied: certifi>=2017.4.17 in /Users/wesleydyk/.pyenv/versions/3.10.14/envs/afsdemos/lib/python3.10/site-packages (from requests<3,>=2.22.1->qci-client<6,>=5->eqc_models) (2025.6.15)\n",
      "Requirement already satisfied: urllib3<1.27,>=1.21.1 in /Users/wesleydyk/.pyenv/versions/3.10.14/envs/afsdemos/lib/python3.10/site-packages (from requests<3,>=2.22.1->qci-client<6,>=5->eqc_models) (1.26.20)\n",
      "Requirement already satisfied: charset-normalizer<3,>=2 in /Users/wesleydyk/.pyenv/versions/3.10.14/envs/afsdemos/lib/python3.10/site-packages (from requests<3,>=2.22.1->qci-client<6,>=5->eqc_models) (2.1.1)\n",
      "\u001b[33mWARNING: Ignoring invalid distribution -rpcio (/Users/wesleydyk/.pyenv/versions/3.10.14/envs/afsdemos/lib/python3.10/site-packages)\u001b[0m\u001b[33m\n",
      "\u001b[0m\u001b[33mWARNING: Ignoring invalid distribution -rpcio (/Users/wesleydyk/.pyenv/versions/3.10.14/envs/afsdemos/lib/python3.10/site-packages)\u001b[0m\u001b[33m\n",
      "\u001b[0m\u001b[33mWARNING: Ignoring invalid distribution -rpcio (/Users/wesleydyk/.pyenv/versions/3.10.14/envs/afsdemos/lib/python3.10/site-packages)\u001b[0m\u001b[33m\n",
      "\u001b[0m\u001b[33mWARNING: Ignoring invalid distribution -rpcio (/Users/wesleydyk/.pyenv/versions/3.10.14/envs/afsdemos/lib/python3.10/site-packages)\u001b[0m\u001b[33m\n",
      "\u001b[0m\n",
      "\u001b[1m[\u001b[0m\u001b[34;49mnotice\u001b[0m\u001b[1;39;49m]\u001b[0m\u001b[39;49m A new release of pip is available: \u001b[0m\u001b[31;49m23.0.1\u001b[0m\u001b[39;49m -> \u001b[0m\u001b[32;49m25.2\u001b[0m\n",
      "\u001b[1m[\u001b[0m\u001b[34;49mnotice\u001b[0m\u001b[1;39;49m]\u001b[0m\u001b[39;49m To update, run: \u001b[0m\u001b[32;49mpip install --upgrade pip\u001b[0m\n"
     ]
    }
   ],
   "source": [
    "!pip install eqc_models\n",
    "import os\n",
    "import numpy as np\n",
    "from eqc_models.base import PolynomialModel\n",
    "from eqc_models.solvers import Dirac3IntegerCloudSolver\n",
    "try:\n",
    "    from google.colab import userdata\n",
    "except ImportError:\n",
    "    userdata = None"
   ]
  },
  {
   "cell_type": "markdown",
   "id": "91ab63a1",
   "metadata": {},
   "source": [
    "## API Keys\n"
   ]
  },
  {
   "cell_type": "code",
   "execution_count": 2,
   "id": "caa90d89",
   "metadata": {},
   "outputs": [],
   "source": [
    "# Define the API URL and token  for QCI\n",
    "api_url =\"https://api.qci-prod.com\"\n",
    "if userdata is None:\n",
    "    api_token = \"\" # replace or use environment variables to configure\n",
    "else:\n",
    "    api_token = userdata.get(\"QCI_TOKEN\")\n",
    "    os.environ[\"QCI_TOKEN\"] = api_token\n",
    "    os.environ[\"QCI_API_URL\"] = api_url"
   ]
  },
  {
   "cell_type": "markdown",
   "id": "52874237-cbd4-4d84-bf84-30df31fa696e",
   "metadata": {},
   "source": [
    "## Polynomial\n",
    "$$\n",
    "E(x) = -x_1^2-x_2^2+2x_1x_2\n",
    "$$"
   ]
  },
  {
   "cell_type": "code",
   "execution_count": 3,
   "id": "db26c472-32f8-4b61-ad5a-8690ae79b82f",
   "metadata": {},
   "outputs": [],
   "source": [
    "coefficients = [-1, -1, 2]\n",
    "indices = [(1, 1), (2, 2), (1, 2)]\n",
    "model = PolynomialModel(coefficients, indices)\n",
    "model.upper_bound = np.ones((2,))"
   ]
  },
  {
   "cell_type": "code",
   "execution_count": 4,
   "id": "99c5febe-7cc7-473d-b2ac-ee51d1a6e008",
   "metadata": {},
   "outputs": [
    {
     "name": "stdout",
     "output_type": "stream",
     "text": [
      "2025-08-28 22:13:24 - Dirac allocation balance = 0 s (unmetered)\n",
      "2025-08-28 22:13:24 - Job submitted: job_id='68b128e48060c9339796369e'\n",
      "2025-08-28 22:13:24 - QUEUED\n",
      "2025-08-28 22:13:27 - RUNNING\n",
      "2025-08-28 22:13:32 - COMPLETED\n",
      "2025-08-28 22:13:35 - Dirac allocation balance = 0 s (unmetered)\n"
     ]
    }
   ],
   "source": [
    "solver = Dirac3IntegerCloudSolver(url=api_url, api_token=api_token)\n",
    "response = solver.solve(model, relaxation_schedule=1, num_samples=10, mean_photon_number=0.006)"
   ]
  },
  {
   "cell_type": "code",
   "execution_count": 5,
   "id": "c2689226-c985-486d-a61b-208811619164",
   "metadata": {},
   "outputs": [
    {
     "name": "stdout",
     "output_type": "stream",
     "text": [
      "[[1, 0], [0, 1]]\n",
      "[-1, -1]\n",
      "[9, 1]\n"
     ]
    }
   ],
   "source": [
    "print(response[\"results\"][\"solutions\"])\n",
    "print(response[\"results\"][\"energies\"])\n",
    "print(response[\"results\"][\"counts\"])"
   ]
  },
  {
   "cell_type": "code",
   "execution_count": null,
   "id": "9f96b492",
   "metadata": {},
   "outputs": [],
   "source": []
  }
 ],
 "metadata": {
  "kernelspec": {
   "display_name": "afsdemos",
   "language": "python",
   "name": "python3"
  },
  "language_info": {
   "codemirror_mode": {
    "name": "ipython",
    "version": 3
   },
   "file_extension": ".py",
   "mimetype": "text/x-python",
   "name": "python",
   "nbconvert_exporter": "python",
   "pygments_lexer": "ipython3",
   "version": "3.10.14"
  }
 },
 "nbformat": 4,
 "nbformat_minor": 5
}
