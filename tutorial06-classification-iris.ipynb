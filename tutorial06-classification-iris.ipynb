{
 "cells": [
  {
   "cell_type": "markdown",
   "id": "ed12f611",
   "metadata": {},
   "source": [
    "<div align=\"center\">\n",
    "\n",
    "# Classification of the Iris Dataset\n",
    "<h4>\n",
    "  Wesley Dyk<br>\n",
    "  <small style=\"font-weight: normal;\">\n",
    "    Senior Quantum Solutions Architect<br>\n",
    "    Quantum Computing Inc.\n",
    "  </small>\n",
    "</h4>\n",
    "\n",
    "<br>\n",
    "\n",
    "[![Open in Colab](https://colab.research.google.com/assets/colab-badge.svg)](https://colab.research.google.com/github/qci-wdyk/eqc-models-tutorial/blob/main/tutorial06-classification-iris.ipynb)\n",
    "\n",
    "</div>"
   ]
  },
  {
   "cell_type": "markdown",
   "id": "5010004a-2d67-48a6-9fb2-17682b4bbf4d",
   "metadata": {},
   "source": [
    "A `QBoostClassifier` object builds $n$ weak classifiers from one of Decision Tree, Gaussian Naive Bayes, Logistic Regression, or Gaussian Process classifiers. Logistic Regression is the default. The number of classifiers, $n$ is determined as 1,2 or 3-combinations of all features. These classifiers are used to build a Hamiltonian whose minima represents an optimal linear combination of the weak classifiers correctly classifying the most records of the training dataset."
   ]
  },
  {
   "cell_type": "code",
   "execution_count": 1,
   "id": "a3bca500-2c59-4f1e-8f52-a32809e2b882",
   "metadata": {},
   "outputs": [],
   "source": [
    "import sys\n",
    "import os\n",
    "from collections import Counter\n",
    "import numpy as np\n",
    "import pandas as pd\n",
    "import matplotlib.pyplot as plt\n",
    "from sklearn import datasets\n",
    "from sklearn.preprocessing import MinMaxScaler\n",
    "from sklearn.model_selection import train_test_split\n",
    "from sklearn.metrics import (\n",
    "    confusion_matrix,\n",
    "    precision_score,\n",
    "    recall_score,\n",
    "    accuracy_score,\n",
    "    roc_curve,\n",
    "    auc\n",
    ")\n",
    "import warnings\n",
    "warnings.filterwarnings(\"ignore\")\n",
    "\n",
    "from eqc_models.ml.classifierqboost import QBoostClassifier"
   ]
  },
  {
   "cell_type": "code",
   "execution_count": 2,
   "id": "0f4291af-752a-48b9-ae9c-0679e5f4e0a6",
   "metadata": {},
   "outputs": [
    {
     "name": "stdout",
     "output_type": "stream",
     "text": [
      ".. _iris_dataset:\n",
      "\n",
      "Iris plants dataset\n",
      "--------------------\n",
      "\n",
      "**Data Set Characteristics:**\n",
      "\n",
      ":Number of Instances: 150 (50 in each of three classes)\n",
      ":Number of Attributes: 4 numeric, predictive attributes and the class\n",
      ":Attribute Information:\n",
      "    - sepal length in cm\n",
      "    - sepal width in cm\n",
      "    - petal length in cm\n",
      "    - petal width in cm\n",
      "    - class:\n",
      "            - Iris-Setosa\n",
      "            - Iris-Versicolour\n",
      "            - Iris-Virginica\n",
      "\n",
      ":Summary Statistics:\n",
      "\n",
      "============== ==== ==== ======= ===== ====================\n",
      "                Min  Max   Mean    SD   Class Correlation\n",
      "============== ==== ==== ======= ===== ====================\n",
      "sepal length:   4.3  7.9   5.84   0.83    0.7826\n",
      "sepal width:    2.0  4.4   3.05   0.43   -0.4194\n",
      "petal length:   1.0  6.9   3.76   1.76    0.9490  (high!)\n",
      "petal width:    0.1  2.5   1.20   0.76    0.9565  (high!)\n",
      "============== ==== ==== ======= ===== ====================\n",
      "\n",
      ":Missing Attribute Values: None\n",
      ":Class Distribution: 33.3% for each of 3 classes.\n",
      ":Creator: R.A. Fisher\n",
      ":Donor: Michael Marshall (MARSHALL%PLU@io.arc.nasa.gov)\n",
      ":Date: July, 1988\n",
      "\n",
      "The famous Iris database, first used by Sir R.A. Fisher. The dataset is taken\n",
      "from Fisher's paper. Note that it's the same as in R, but not as in the UCI\n",
      "Machine Learning Repository, which has two wrong data points.\n",
      "\n",
      "This is perhaps the best known database to be found in the\n",
      "pattern recognition literature.  Fisher's paper is a classic in the field and\n",
      "is referenced frequently to this day.  (See Duda & Hart, for example.)  The\n",
      "data set contains 3 classes of 50 instances each, where each class refers to a\n",
      "type of iris plant.  One class is linearly separable from the other 2; the\n",
      "latter are NOT linearly separable from each other.\n",
      "\n",
      ".. dropdown:: References\n",
      "\n",
      "  - Fisher, R.A. \"The use of multiple measurements in taxonomic problems\"\n",
      "    Annual Eugenics, 7, Part II, 179-188 (1936); also in \"Contributions to\n",
      "    Mathematical Statistics\" (John Wiley, NY, 1950).\n",
      "  - Duda, R.O., & Hart, P.E. (1973) Pattern Classification and Scene Analysis.\n",
      "    (Q327.D83) John Wiley & Sons.  ISBN 0-471-22361-1.  See page 218.\n",
      "  - Dasarathy, B.V. (1980) \"Nosing Around the Neighborhood: A New System\n",
      "    Structure and Classification Rule for Recognition in Partially Exposed\n",
      "    Environments\".  IEEE Transactions on Pattern Analysis and Machine\n",
      "    Intelligence, Vol. PAMI-2, No. 1, 67-71.\n",
      "  - Gates, G.W. (1972) \"The Reduced Nearest Neighbor Rule\".  IEEE Transactions\n",
      "    on Information Theory, May 1972, 431-433.\n",
      "  - See also: 1988 MLC Proceedings, 54-64.  Cheeseman et al\"s AUTOCLASS II\n",
      "    conceptual clustering system finds 3 classes in the data.\n",
      "  - Many, many more ...\n",
      "\n"
     ]
    }
   ],
   "source": [
    "# Set parameters\n",
    "TEST_SIZE = 0.2\n",
    "\n",
    "# Read dataset\n",
    "iris = datasets.load_iris()\n",
    "X = iris.data\n",
    "y = iris.target\n",
    "print(iris.DESCR)"
   ]
  },
  {
   "cell_type": "code",
   "execution_count": 3,
   "id": "43296af0-c568-4ccf-9315-619205ed5a23",
   "metadata": {},
   "outputs": [
    {
     "name": "stdout",
     "output_type": "stream",
     "text": [
      "\n",
      "Training Data\n",
      "========================================\n",
      "Counter({1: 80, -1: 40})\n",
      "(120, 4)\n",
      "(120,)\n",
      "\n",
      "Test Data\n",
      "========================================\n",
      "Counter({1: 20, -1: 10})\n",
      "(30, 4)\n",
      "(30,)\n"
     ]
    }
   ],
   "source": [
    "# Pre-Process\n",
    "scaler = MinMaxScaler()\n",
    "X = scaler.fit_transform(X)\n",
    "\n",
    "for i in range(len(y)):\n",
    "    if y[i] == 0:\n",
    "        y[i] = -1\n",
    "    elif y[i] == 2:\n",
    "        y[i] = 1\n",
    "\n",
    "X_train, X_test, y_train, y_test = train_test_split(\n",
    "    X,\n",
    "    y,\n",
    "    test_size=TEST_SIZE,\n",
    "    random_state=42,\n",
    ")\n",
    "print(\"\\nTraining Data\")\n",
    "print(\"=\"*40)\n",
    "print(Counter(y_train))\n",
    "print(X_train.shape)\n",
    "print(y_train.shape)\n",
    "print(\"\\nTest Data\")\n",
    "print(\"=\"*40)\n",
    "print(Counter(y_test))\n",
    "print(X_test.shape)\n",
    "print(y_test.shape)\n"
   ]
  },
  {
   "cell_type": "code",
   "execution_count": 4,
   "id": "51a263a6-0486-4ec3-b273-e84d0bc9a033",
   "metadata": {},
   "outputs": [
    {
     "name": "stdout",
     "output_type": "stream",
     "text": [
      "Runtime of _build_weak_classifiers_sq: 0.04 seconds!\n",
      "Built 10 weak classifiers!\n",
      "Runtime of get_hamiltonian: 0.04 seconds!\n",
      "2025-03-15 10:15:39 - Dirac allocation balance = 0 s (unmetered)\n",
      "2025-03-15 10:15:39 - Job submitted: job_id='67d5a7ab00e804f113aefcc0'\n",
      "2025-03-15 10:15:39 - QUEUED\n",
      "2025-03-15 10:16:07 - RUNNING\n",
      "2025-03-15 10:16:13 - COMPLETED\n",
      "2025-03-15 10:16:15 - Dirac allocation balance = 0 s (unmetered)\n",
      "{'job_info': {'job_id': '67d5a7ab00e804f113aefcc0', 'job_submission': {'problem_config': {'normalized_qudit_hamiltonian_optimization': {'polynomial_file_id': '67d5a7aa236cc2225ac90cdf'}}, 'device_config': {'dirac-3_normalized_qudit': {'num_samples': 1, 'relaxation_schedule': 1, 'solution_precision': 1, 'sum_constraint': 1}}}, 'job_status': {'submitted_at_rfc3339nano': '2025-03-15T16:15:39.088Z', 'queued_at_rfc3339nano': '2025-03-15T16:15:39.089Z', 'running_at_rfc3339nano': '2025-03-15T16:16:07.387Z', 'completed_at_rfc3339nano': '2025-03-15T16:16:11.558Z'}, 'job_result': {'file_id': '67d5a7cb236cc2225ac90ce3', 'device_usage_s': 1}}, 'status': 'COMPLETED', 'results': {'counts': [1], 'energies': [-120.0000305], 'solutions': [[3e-07, 0, 0.157276, 0.1601615, 2e-07, 0.1442899, 0.1442899, 0.1139891, 0.1327789, 0.1472114]], 'distilled_energies': [-120], 'distilled_solutions': [[0, 0, 0, 0, 0, 1, 0, 0, 0, 0]]}}\n"
     ]
    }
   ],
   "source": [
    "# Get QBoost model\n",
    "obj = QBoostClassifier(\n",
    "    relaxation_schedule=1,\n",
    "    num_samples=1,\n",
    "    lambda_coef=0.0,\n",
    "    weak_cls_strategy='sequential'\n",
    ")\n",
    "\n",
    "# Train\n",
    "obj.fit(X_train, y_train)\n",
    "\n",
    "y_train_prd = obj.predict(X_train)\n",
    "y_test_prd = obj.predict(X_test)\n"
   ]
  },
  {
   "cell_type": "code",
   "execution_count": 5,
   "id": "0fc55beb-aaeb-49df-8abd-3b68ca0c275d",
   "metadata": {},
   "outputs": [
    {
     "name": "stdout",
     "output_type": "stream",
     "text": [
      "Counter({1.0: 80, -1.0: 40})\n",
      "Counter({1.0: 20, -1.0: 10})\n",
      "Train precision: 1.0\n",
      "Train recall: 1.0\n",
      "Train accuracy: 1.0\n",
      "Train confusion matrix:\n",
      "[[40  0]\n",
      " [ 0 80]]\n",
      "Test precision: 1.0\n",
      "Test recall: 1.0\n"
     ]
    },
    {
     "data": {
      "text/plain": [
       "<matplotlib.legend.Legend at 0x2a02a2a95a0>"
      ]
     },
     "execution_count": 5,
     "metadata": {},
     "output_type": "execute_result"
    },
    {
     "data": {
      "image/png": "[encoded data removed]",
      "text/plain": [
       "<Figure size 640x480 with 1 Axes>"
      ]
     },
     "metadata": {},
     "output_type": "display_data"
    }
   ],
   "source": [
    "print(Counter(y_train_prd))\n",
    "print(Counter(y_test_prd))\n",
    "\n",
    "print(\n",
    "    \"Train precision:\",\n",
    "    precision_score(y_train, y_train_prd, labels=[-1, 1], pos_label=1),\n",
    ")\n",
    "print(\n",
    "    \"Train recall:\",\n",
    "    recall_score(y_train, y_train_prd, labels=[-1, 1], pos_label=1),\n",
    ")\n",
    "print(\n",
    "    \"Train accuracy:\",\n",
    "    accuracy_score(y_train, y_train_prd),\n",
    ")\n",
    "print(\n",
    "    \"Train confusion matrix:\",\n",
    ")\n",
    "print(\n",
    "    confusion_matrix(y_train, y_train_prd, labels=[-1, 1]),\n",
    ")\n",
    "\n",
    "print(\n",
    "    \"Test precision:\",\n",
    "    precision_score(y_test, y_test_prd, labels=[-1, 1], pos_label=1),\n",
    ")\n",
    "print(\n",
    "    \"Test recall:\",\n",
    "    recall_score(y_test, y_test_prd, labels=[-1, 1], pos_label=1),\n",
    ")\n",
    "false_positive_rate, true_positive_rate, thresholds = roc_curve(y_test, y_test_prd)\n",
    "area = auc(false_positive_rate, true_positive_rate)\n",
    "plt.plot(false_positive_rate, true_positive_rate, label=f'auc = {area:.2f}')\n",
    "plt.plot([0, 1], [0, 1], 'r--', label='Random Guess')\n",
    "plt.xlabel('False Positive Rate')\n",
    "plt.ylabel('True Positive Rate')\n",
    "plt.title('ROC Curve for Dirac-3 Classification')\n",
    "plt.legend()"
   ]
  }
 ],
 "metadata": {
  "kernelspec": {
   "display_name": "neoeqc",
   "language": "python",
   "name": "python3"
  },
  "language_info": {
   "codemirror_mode": {
    "name": "ipython",
    "version": 3
   },
   "file_extension": ".py",
   "mimetype": "text/x-python",
   "name": "python",
   "nbconvert_exporter": "python",
   "pygments_lexer": "ipython3",
   "version": "3.11.13"
  }
 },
 "nbformat": 4,
 "nbformat_minor": 5
}
