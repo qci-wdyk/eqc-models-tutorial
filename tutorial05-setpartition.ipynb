{
 "cells": [
  {
   "cell_type": "markdown",
   "id": "a76d642c",
   "metadata": {},
   "source": [
    "<div align=\"center\">\n",
    "\n",
    "# Separation\n",
    "<h4>\n",
    "  Wesley Dyk<br>\n",
    "  <small style=\"font-weight: normal;\">\n",
    "    Senior Quantum Solutions Architect<br>\n",
    "    Quantum Computing Inc.\n",
    "  </small>\n",
    "</h4>\n",
    "\n",
    "<br>\n",
    "\n",
    "[![Open in Colab](https://colab.research.google.com/assets/colab-badge.svg)](https://colab.research.google.com/github/qci-wdyk/eqc-models-tutorial/blob/main/tutorial05-setpartition.ipynb)\n",
    "\n",
    "</div>\n"
   ]
  },
  {
   "cell_type": "markdown",
   "id": "3d692565",
   "metadata": {},
   "source": [
    "## Imports"
   ]
  },
  {
   "cell_type": "code",
   "execution_count": 12,
   "id": "87518ca6-ce20-4027-b113-167eb8884eda",
   "metadata": {},
   "outputs": [
    {
     "name": "stdout",
     "output_type": "stream",
     "text": [
      "\u001b[33mWARNING: Ignoring invalid distribution -rpcio (/Users/wesleydyk/.pyenv/versions/3.10.14/envs/afsdemos/lib/python3.10/site-packages)\u001b[0m\u001b[33m\n",
      "\u001b[0m\u001b[33mWARNING: Ignoring invalid distribution -rpcio (/Users/wesleydyk/.pyenv/versions/3.10.14/envs/afsdemos/lib/python3.10/site-packages)\u001b[0m\u001b[33m\n",
      "\u001b[0mRequirement already satisfied: eqc_models in /Users/wesleydyk/.pyenv/versions/3.10.14/envs/afsdemos/lib/python3.10/site-packages (0.14.2)\n",
      "Requirement already satisfied: scikit-learn<2,>=1.2.1 in /Users/wesleydyk/.pyenv/versions/3.10.14/envs/afsdemos/lib/python3.10/site-packages (from eqc_models) (1.6.1)\n",
      "Requirement already satisfied: lightgbm<5,>=4.6.0 in /Users/wesleydyk/.pyenv/versions/3.10.14/envs/afsdemos/lib/python3.10/site-packages (from eqc_models) (4.6.0)\n",
      "Requirement already satisfied: numpy<2,>=1.22.1 in /Users/wesleydyk/.pyenv/versions/3.10.14/envs/afsdemos/lib/python3.10/site-packages (from eqc_models) (1.26.4)\n",
      "Requirement already satisfied: emucore-direct==1.0.7 in /Users/wesleydyk/.pyenv/versions/3.10.14/envs/afsdemos/lib/python3.10/site-packages (from eqc_models) (1.0.7)\n",
      "Requirement already satisfied: eqc-direct==2.0.2 in /Users/wesleydyk/.pyenv/versions/3.10.14/envs/afsdemos/lib/python3.10/site-packages (from eqc_models) (2.0.2)\n",
      "Requirement already satisfied: qci-client<6,>=5 in /Users/wesleydyk/.pyenv/versions/3.10.14/envs/afsdemos/lib/python3.10/site-packages (from eqc_models) (5.0.0)\n",
      "Requirement already satisfied: pandas<3,>=2.1.0 in /Users/wesleydyk/.pyenv/versions/3.10.14/envs/afsdemos/lib/python3.10/site-packages (from eqc_models) (2.1.0)\n",
      "Requirement already satisfied: networkx<3,>=2.6.3 in /Users/wesleydyk/.pyenv/versions/3.10.14/envs/afsdemos/lib/python3.10/site-packages (from eqc_models) (2.8.8)\n",
      "Requirement already satisfied: xgboost<4,>=1.7.4 in /Users/wesleydyk/.pyenv/versions/3.10.14/envs/afsdemos/lib/python3.10/site-packages (from eqc_models) (3.0.2)\n",
      "Requirement already satisfied: scipy<2,>=1.11.1 in /Users/wesleydyk/.pyenv/versions/3.10.14/envs/afsdemos/lib/python3.10/site-packages (from emucore-direct==1.0.7->eqc_models) (1.15.3)\n",
      "Requirement already satisfied: protobuf==3.20.3 in /Users/wesleydyk/.pyenv/versions/3.10.14/envs/afsdemos/lib/python3.10/site-packages (from emucore-direct==1.0.7->eqc_models) (3.20.3)\n",
      "Requirement already satisfied: grpcio==1.72.1 in /Users/wesleydyk/.pyenv/versions/3.10.14/envs/afsdemos/lib/python3.10/site-packages (from emucore-direct==1.0.7->eqc_models) (1.72.1)\n",
      "Requirement already satisfied: bitstring<5,>=4.1.2 in /Users/wesleydyk/.pyenv/versions/3.10.14/envs/afsdemos/lib/python3.10/site-packages (from emucore-direct==1.0.7->eqc_models) (4.3.1)\n",
      "Requirement already satisfied: pytz>=2020.1 in /Users/wesleydyk/.pyenv/versions/3.10.14/envs/afsdemos/lib/python3.10/site-packages (from pandas<3,>=2.1.0->eqc_models) (2025.2)\n",
      "Requirement already satisfied: python-dateutil>=2.8.2 in /Users/wesleydyk/.pyenv/versions/3.10.14/envs/afsdemos/lib/python3.10/site-packages (from pandas<3,>=2.1.0->eqc_models) (2.9.0.post0)\n",
      "Requirement already satisfied: tzdata>=2022.1 in /Users/wesleydyk/.pyenv/versions/3.10.14/envs/afsdemos/lib/python3.10/site-packages (from pandas<3,>=2.1.0->eqc_models) (2025.2)\n",
      "Requirement already satisfied: requests-futures<2,>=1.0.0 in /Users/wesleydyk/.pyenv/versions/3.10.14/envs/afsdemos/lib/python3.10/site-packages (from qci-client<6,>=5->eqc_models) (1.0.2)\n",
      "Requirement already satisfied: requests<3,>=2.22.1 in /Users/wesleydyk/.pyenv/versions/3.10.14/envs/afsdemos/lib/python3.10/site-packages (from qci-client<6,>=5->eqc_models) (2.28.1)\n",
      "Requirement already satisfied: joblib>=1.2.0 in /Users/wesleydyk/.pyenv/versions/3.10.14/envs/afsdemos/lib/python3.10/site-packages (from scikit-learn<2,>=1.2.1->eqc_models) (1.5.1)\n",
      "Requirement already satisfied: threadpoolctl>=3.1.0 in /Users/wesleydyk/.pyenv/versions/3.10.14/envs/afsdemos/lib/python3.10/site-packages (from scikit-learn<2,>=1.2.1->eqc_models) (3.6.0)\n",
      "Requirement already satisfied: bitarray<4.0,>=3.0.0 in /Users/wesleydyk/.pyenv/versions/3.10.14/envs/afsdemos/lib/python3.10/site-packages (from bitstring<5,>=4.1.2->emucore-direct==1.0.7->eqc_models) (3.4.2)\n",
      "Requirement already satisfied: six>=1.5 in /Users/wesleydyk/.pyenv/versions/3.10.14/envs/afsdemos/lib/python3.10/site-packages (from python-dateutil>=2.8.2->pandas<3,>=2.1.0->eqc_models) (1.17.0)\n",
      "Requirement already satisfied: certifi>=2017.4.17 in /Users/wesleydyk/.pyenv/versions/3.10.14/envs/afsdemos/lib/python3.10/site-packages (from requests<3,>=2.22.1->qci-client<6,>=5->eqc_models) (2025.6.15)\n",
      "Requirement already satisfied: urllib3<1.27,>=1.21.1 in /Users/wesleydyk/.pyenv/versions/3.10.14/envs/afsdemos/lib/python3.10/site-packages (from requests<3,>=2.22.1->qci-client<6,>=5->eqc_models) (1.26.20)\n",
      "Requirement already satisfied: idna<4,>=2.5 in /Users/wesleydyk/.pyenv/versions/3.10.14/envs/afsdemos/lib/python3.10/site-packages (from requests<3,>=2.22.1->qci-client<6,>=5->eqc_models) (3.10)\n",
      "Requirement already satisfied: charset-normalizer<3,>=2 in /Users/wesleydyk/.pyenv/versions/3.10.14/envs/afsdemos/lib/python3.10/site-packages (from requests<3,>=2.22.1->qci-client<6,>=5->eqc_models) (2.1.1)\n",
      "\u001b[33mWARNING: Ignoring invalid distribution -rpcio (/Users/wesleydyk/.pyenv/versions/3.10.14/envs/afsdemos/lib/python3.10/site-packages)\u001b[0m\u001b[33m\n",
      "\u001b[0m\u001b[33mWARNING: Ignoring invalid distribution -rpcio (/Users/wesleydyk/.pyenv/versions/3.10.14/envs/afsdemos/lib/python3.10/site-packages)\u001b[0m\u001b[33m\n",
      "\u001b[0m\u001b[33mWARNING: Ignoring invalid distribution -rpcio (/Users/wesleydyk/.pyenv/versions/3.10.14/envs/afsdemos/lib/python3.10/site-packages)\u001b[0m\u001b[33m\n",
      "\u001b[0m\u001b[33mWARNING: Ignoring invalid distribution -rpcio (/Users/wesleydyk/.pyenv/versions/3.10.14/envs/afsdemos/lib/python3.10/site-packages)\u001b[0m\u001b[33m\n",
      "\u001b[0m\n",
      "\u001b[1m[\u001b[0m\u001b[34;49mnotice\u001b[0m\u001b[1;39;49m]\u001b[0m\u001b[39;49m A new release of pip is available: \u001b[0m\u001b[31;49m23.0.1\u001b[0m\u001b[39;49m -> \u001b[0m\u001b[32;49m25.2\u001b[0m\n",
      "\u001b[1m[\u001b[0m\u001b[34;49mnotice\u001b[0m\u001b[1;39;49m]\u001b[0m\u001b[39;49m To update, run: \u001b[0m\u001b[32;49mpip install --upgrade pip\u001b[0m\n"
     ]
    }
   ],
   "source": [
    "!pip install eqc_models\n",
    "import os\n",
    "import numpy as np\n",
    "from eqc_models.combinatorics import SetPartitionModel\n",
    "from eqc_models.solvers import Dirac3IntegerCloudSolver\n",
    "try:\n",
    "    from google.colab import userdata\n",
    "except ImportError:\n",
    "    userdata = None"
   ]
  },
  {
   "cell_type": "markdown",
   "id": "2b6ea1d4",
   "metadata": {},
   "source": [
    "## API Keys"
   ]
  },
  {
   "cell_type": "code",
   "execution_count": 13,
   "id": "d914d33f",
   "metadata": {},
   "outputs": [],
   "source": [
    "# Define the API URL and token  for QCI\n",
    "api_url =\"https://api.qci-prod.com\"\n",
    "if userdata is None:\n",
    "    api_token = \"\" # replace or use environment variables to configure\n",
    "else:\n",
    "    api_token = userdata.get(\"QCI_TOKEN\")\n",
    "    os.environ[\"QCI_TOKEN\"] = api_token\n",
    "    os.environ[\"QCI_API_URL\"] = api_url"
   ]
  },
  {
   "cell_type": "markdown",
   "id": "30a467b6",
   "metadata": {},
   "source": [
    "The `SetPartitionModel` is a tool for solving set partitioning optimization problems.\n",
    "\n",
    "Given a collection of **subsets** and their corresponding **weights**, this class finds the lowest-cost combination of subsets that perfectly covers every element in a larger universal set. \n",
    "It automatically formulates the problem's constraints and objective function, preparing it for use with an optimization solver."
   ]
  },
  {
   "cell_type": "code",
   "execution_count": 14,
   "id": "b3ccacad-21c2-440f-9e13-6a31ce51f65e",
   "metadata": {},
   "outputs": [],
   "source": [
    "S = [{\"A\", \"B\"}, {\"A\", \"C\"}, {\"B\"}, {\"C\"}]\n",
    "weights = [4, 4, 1, 3]"
   ]
  },
  {
   "cell_type": "markdown",
   "id": "c8252d4f",
   "metadata": {},
   "source": [
    "The constraints of the partition model ensure that every element in the universal set is covered exactly once.\n",
    "The `penalty_multiplier` sets the \"punishment\" for breaking the constraint."
   ]
  },
  {
   "cell_type": "code",
   "execution_count": 15,
   "id": "0f0fd2e6-145c-4bea-ac01-2af24fb4ffe7",
   "metadata": {},
   "outputs": [],
   "source": [
    "model = SetPartitionModel(S, weights)\n",
    "model.penalty_multiplier = 10"
   ]
  },
  {
   "cell_type": "code",
   "execution_count": 16,
   "id": "c77692ea-220f-4c8e-bf7e-9742ebf63b89",
   "metadata": {},
   "outputs": [],
   "source": [
    "solver = Dirac3IntegerCloudSolver(url=api_url, api_token=api_token)"
   ]
  },
  {
   "cell_type": "code",
   "execution_count": 17,
   "id": "bf50645c-6393-42a6-997b-7d0a104a0ce9",
   "metadata": {},
   "outputs": [
    {
     "name": "stdout",
     "output_type": "stream",
     "text": [
      "2025-08-28 23:29:16 - Dirac allocation balance = 0 s (unmetered)\n",
      "2025-08-28 23:29:16 - Job submitted: job_id='68b13aac8060c933979636c3'\n",
      "2025-08-28 23:29:16 - QUEUED\n",
      "2025-08-28 23:29:19 - RUNNING\n",
      "2025-08-28 23:29:21 - COMPLETED\n",
      "2025-08-28 23:29:24 - Dirac allocation balance = 0 s (unmetered)\n"
     ]
    }
   ],
   "source": [
    "response = solver.solve(model, relaxation_schedule=1, num_samples=5)"
   ]
  },
  {
   "cell_type": "markdown",
   "id": "e7f0a5ab",
   "metadata": {},
   "source": [
    "The output of the `SetPartitionModel` selects a combination of the subsets that can cover most elements in the universal set, while minimizing the total weight of the selected subsets."
   ]
  },
  {
   "cell_type": "code",
   "execution_count": 18,
   "id": "13bdfd3f-600c-49d2-908e-ac1ca8ff1108",
   "metadata": {},
   "outputs": [
    {
     "data": {
      "text/plain": [
       "([0, 1, 1, 0], {'A', 'B', 'C'})"
      ]
     },
     "execution_count": 18,
     "metadata": {},
     "output_type": "execute_result"
    }
   ],
   "source": [
    "solution = response[\"results\"][\"solutions\"][0]\n",
    "U = set()\n",
    "\n",
    "for i in range(len(solution)):\n",
    "    if solution[i] == 1:\n",
    "        U = U.union(S[i])\n",
    "solution, U"
   ]
  },
  {
   "cell_type": "code",
   "execution_count": 19,
   "id": "cf3dfe49",
   "metadata": {},
   "outputs": [
    {
     "data": {
      "text/plain": [
       "[{'A', 'C'}, {'B'}]"
      ]
     },
     "execution_count": 19,
     "metadata": {},
     "output_type": "execute_result"
    }
   ],
   "source": [
    "[S[i] for i in range(len(S)) if solution[i] == 1]"
   ]
  },
  {
   "cell_type": "code",
   "execution_count": null,
   "id": "3f7dd266",
   "metadata": {},
   "outputs": [],
   "source": []
  }
 ],
 "metadata": {
  "kernelspec": {
   "display_name": "afsdemos",
   "language": "python",
   "name": "python3"
  },
  "language_info": {
   "codemirror_mode": {
    "name": "ipython",
    "version": 3
   },
   "file_extension": ".py",
   "mimetype": "text/x-python",
   "name": "python",
   "nbconvert_exporter": "python",
   "pygments_lexer": "ipython3",
   "version": "3.10.14"
  }
 },
 "nbformat": 4,
 "nbformat_minor": 5
}
