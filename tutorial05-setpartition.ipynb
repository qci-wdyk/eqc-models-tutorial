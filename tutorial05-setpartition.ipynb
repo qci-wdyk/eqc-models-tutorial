{
 "cells": [
  {
   "cell_type": "markdown",
   "id": "a76d642c",
   "metadata": {},
   "source": [
    "<div align=\"center\">\n",
    "\n",
    "# Separation\n",
    "<h4>\n",
    "  Wesley Dyk<br>\n",
    "  <small style=\"font-weight: normal;\">\n",
    "    Senior Quantum Solutions Architect<br>\n",
    "    Quantum Computing Inc.\n",
    "  </small>\n",
    "</h4>\n",
    "\n",
    "<br>\n",
    "\n",
    "[![Open in Colab](https://colab.research.google.com/assets/colab-badge.svg)](https://colab.research.google.com/github/qci-wdyk/eqc-models-tutorial/blob/main/tutorial05-setpartition.ipynb)\n",
    "\n",
    "</div>\n"
   ]
  },
  {
   "cell_type": "markdown",
   "id": "3d692565",
   "metadata": {},
   "source": [
    "## Imports"
   ]
  },
  {
   "cell_type": "code",
   "execution_count": 1,
   "id": "87518ca6-ce20-4027-b113-167eb8884eda",
   "metadata": {},
   "outputs": [],
   "source": [
    "import numpy as np\n",
    "from eqc_models.combinatorics import SetPartitionModel\n",
    "from eqc_models.solvers import Dirac3IntegerCloudSolver"
   ]
  },
  {
   "cell_type": "markdown",
   "id": "2b6ea1d4",
   "metadata": {},
   "source": [
    "## API Keys"
   ]
  },
  {
   "cell_type": "code",
   "execution_count": null,
   "id": "d914d33f",
   "metadata": {},
   "outputs": [],
   "source": [
    "# Define the API URL and token  for QCI\n",
    "api_url =\"https://api.qci-prod.com\"\n",
    "api_token = \"\" # Replace with your actual API token"
   ]
  },
  {
   "cell_type": "markdown",
   "id": "30a467b6",
   "metadata": {},
   "source": [
    "The `SetPartitionModel` is a tool for solving set partitioning optimization problems.\n",
    "\n",
    "Given a collection of **subsets** and their corresponding **weights**, this class finds the lowest-cost combination of subsets that perfectly covers every element in a larger universal set. \n",
    "It automatically formulates the problem's constraints and objective function, preparing it for use with an optimization solver."
   ]
  },
  {
   "cell_type": "code",
   "execution_count": 2,
   "id": "b3ccacad-21c2-440f-9e13-6a31ce51f65e",
   "metadata": {},
   "outputs": [],
   "source": [
    "S = [{\"A\", \"B\"}, {\"A\", \"C\"}, {\"B\"}, {\"C\"}]\n",
    "weights = [4, 4, 1, 3]"
   ]
  },
  {
   "cell_type": "markdown",
   "id": "c8252d4f",
   "metadata": {},
   "source": [
    "The constraints of the partition model ensure that every element in the universal set is covered exactly once.\n",
    "The `penalty_multiplier` sets the \"punishment\" for breaking the constraint."
   ]
  },
  {
   "cell_type": "code",
   "execution_count": 3,
   "id": "0f0fd2e6-145c-4bea-ac01-2af24fb4ffe7",
   "metadata": {},
   "outputs": [],
   "source": [
    "model = SetPartitionModel(S, weights)\n",
    "model.penalty_multiplier = 10"
   ]
  },
  {
   "cell_type": "code",
   "execution_count": null,
   "id": "c77692ea-220f-4c8e-bf7e-9742ebf63b89",
   "metadata": {},
   "outputs": [],
   "source": [
    "solver = Dirac3IntegerCloudSolver(url=api_url, api_token=api_token)"
   ]
  },
  {
   "cell_type": "code",
   "execution_count": 5,
   "id": "bf50645c-6393-42a6-997b-7d0a104a0ce9",
   "metadata": {},
   "outputs": [
    {
     "name": "stdout",
     "output_type": "stream",
     "text": [
      "2025-03-14 23:07:36 - Dirac allocation balance = 0 s (unmetered)\n",
      "2025-03-14 23:07:36 - Job submitted: job_id='67d50b1700e804f113aefcae'\n",
      "2025-03-14 23:07:36 - QUEUED\n",
      "2025-03-14 23:07:38 - RUNNING\n",
      "2025-03-14 23:07:44 - COMPLETED\n",
      "2025-03-14 23:07:46 - Dirac allocation balance = 0 s (unmetered)\n"
     ]
    }
   ],
   "source": [
    "response = solver.solve(model, relaxation_schedule=1, num_samples=5)"
   ]
  },
  {
   "cell_type": "markdown",
   "id": "e7f0a5ab",
   "metadata": {},
   "source": [
    "The output of the `SetPartitionModel` selects a combination of the subsets that can cover most elements in the universal set, while minimizing the total weight of the selected subsets."
   ]
  },
  {
   "cell_type": "code",
   "execution_count": 6,
   "id": "13bdfd3f-600c-49d2-908e-ac1ca8ff1108",
   "metadata": {},
   "outputs": [
    {
     "data": {
      "text/plain": [
       "([0, 1, 1, 0], {'A', 'B', 'C'})"
      ]
     },
     "execution_count": 6,
     "metadata": {},
     "output_type": "execute_result"
    }
   ],
   "source": [
    "solution = response[\"results\"][\"solutions\"][0]\n",
    "U = set()\n",
    "\n",
    "for i in range(len(solution)):\n",
    "    if solution[i] == 1:\n",
    "        U = U.union(S[i])\n",
    "solution, U"
   ]
  }
 ],
 "metadata": {
  "kernelspec": {
   "display_name": "neoeqc",
   "language": "python",
   "name": "python3"
  },
  "language_info": {
   "codemirror_mode": {
    "name": "ipython",
    "version": 3
   },
   "file_extension": ".py",
   "mimetype": "text/x-python",
   "name": "python",
   "nbconvert_exporter": "python",
   "pygments_lexer": "ipython3",
   "version": "3.11.13"
  }
 },
 "nbformat": 4,
 "nbformat_minor": 5
}
