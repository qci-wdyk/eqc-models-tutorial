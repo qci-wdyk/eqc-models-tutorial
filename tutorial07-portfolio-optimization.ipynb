{
 "cells": [
  {
   "cell_type": "markdown",
   "id": "4a6eed55",
   "metadata": {},
   "source": [
    "<div align=\"center\">\n",
    "\n",
    "# Portfolio Optimization \n",
    "<h4>\n",
    "  Wesley Dyk<br>\n",
    "  <small style=\"font-weight: normal;\">\n",
    "    Senior Quantum Solutions Architect<br>\n",
    "    Quantum Computing Inc.\n",
    "  </small>\n",
    "</h4>\n",
    "\n",
    "<br>\n",
    "\n",
    "[![Open in Colab](https://colab.research.google.com/assets/colab-badge.svg)](https://colab.research.google.com/github/qci-wdyk/eqc-models-tutorial/blob/main/tutorial07-portfolio-optimization.ipynb)\n",
    "\n",
    "</div>"
   ]
  },
  {
   "cell_type": "markdown",
   "id": "e8f9f1f8-c0b4-4f54-ada5-d165867871a9",
   "metadata": {},
   "source": [
    "\n",
    "Select a value for $\\xi$ and solve the program\n",
    "$$\n",
    "\\begin{equation}\n",
    "    \\min_{\\{w_{i}\\}_{i \\in \\{1, 2,..., K\\}}} [-E(R) R_{B} + \\xi \\mathrm{VAR}(R)]\n",
    "\\end{equation}\n",
    "$$\n",
    "\n",
    "to select a weighted proportion of the portfolio to seek maximum return and minimized risk.\n"
   ]
  },
  {
   "cell_type": "code",
   "execution_count": 1,
   "id": "1edc30ea-960a-4776-ad37-1f422ee30ec0",
   "metadata": {},
   "outputs": [
    {
     "name": "stdout",
     "output_type": "stream",
     "text": [
      "\u001b[33mWARNING: Ignoring invalid distribution -rpcio (/Users/wesleydyk/.pyenv/versions/3.10.14/envs/afsdemos/lib/python3.10/site-packages)\u001b[0m\u001b[33m\n",
      "\u001b[0m\u001b[33mWARNING: Ignoring invalid distribution -rpcio (/Users/wesleydyk/.pyenv/versions/3.10.14/envs/afsdemos/lib/python3.10/site-packages)\u001b[0m\u001b[33m\n",
      "\u001b[0mRequirement already satisfied: eqc-models in /Users/wesleydyk/.pyenv/versions/3.10.14/envs/afsdemos/lib/python3.10/site-packages (0.14.2)\n",
      "Requirement already satisfied: xgboost<4,>=1.7.4 in /Users/wesleydyk/.pyenv/versions/3.10.14/envs/afsdemos/lib/python3.10/site-packages (from eqc-models) (3.0.2)\n",
      "Requirement already satisfied: pandas<3,>=2.1.0 in /Users/wesleydyk/.pyenv/versions/3.10.14/envs/afsdemos/lib/python3.10/site-packages (from eqc-models) (2.1.0)\n",
      "Requirement already satisfied: emucore-direct==1.0.7 in /Users/wesleydyk/.pyenv/versions/3.10.14/envs/afsdemos/lib/python3.10/site-packages (from eqc-models) (1.0.7)\n",
      "Requirement already satisfied: numpy<2,>=1.22.1 in /Users/wesleydyk/.pyenv/versions/3.10.14/envs/afsdemos/lib/python3.10/site-packages (from eqc-models) (1.26.4)\n",
      "Requirement already satisfied: lightgbm<5,>=4.6.0 in /Users/wesleydyk/.pyenv/versions/3.10.14/envs/afsdemos/lib/python3.10/site-packages (from eqc-models) (4.6.0)\n",
      "Requirement already satisfied: qci-client<6,>=5 in /Users/wesleydyk/.pyenv/versions/3.10.14/envs/afsdemos/lib/python3.10/site-packages (from eqc-models) (5.0.0)\n",
      "Requirement already satisfied: eqc-direct==2.0.2 in /Users/wesleydyk/.pyenv/versions/3.10.14/envs/afsdemos/lib/python3.10/site-packages (from eqc-models) (2.0.2)\n",
      "Requirement already satisfied: scikit-learn<2,>=1.2.1 in /Users/wesleydyk/.pyenv/versions/3.10.14/envs/afsdemos/lib/python3.10/site-packages (from eqc-models) (1.6.1)\n",
      "Requirement already satisfied: networkx<3,>=2.6.3 in /Users/wesleydyk/.pyenv/versions/3.10.14/envs/afsdemos/lib/python3.10/site-packages (from eqc-models) (2.8.8)\n",
      "Requirement already satisfied: protobuf==3.20.3 in /Users/wesleydyk/.pyenv/versions/3.10.14/envs/afsdemos/lib/python3.10/site-packages (from emucore-direct==1.0.7->eqc-models) (3.20.3)\n",
      "Requirement already satisfied: bitstring<5,>=4.1.2 in /Users/wesleydyk/.pyenv/versions/3.10.14/envs/afsdemos/lib/python3.10/site-packages (from emucore-direct==1.0.7->eqc-models) (4.3.1)\n",
      "Requirement already satisfied: grpcio==1.72.1 in /Users/wesleydyk/.pyenv/versions/3.10.14/envs/afsdemos/lib/python3.10/site-packages (from emucore-direct==1.0.7->eqc-models) (1.72.1)\n",
      "Requirement already satisfied: scipy<2,>=1.11.1 in /Users/wesleydyk/.pyenv/versions/3.10.14/envs/afsdemos/lib/python3.10/site-packages (from emucore-direct==1.0.7->eqc-models) (1.15.3)\n",
      "Requirement already satisfied: tzdata>=2022.1 in /Users/wesleydyk/.pyenv/versions/3.10.14/envs/afsdemos/lib/python3.10/site-packages (from pandas<3,>=2.1.0->eqc-models) (2025.2)\n",
      "Requirement already satisfied: pytz>=2020.1 in /Users/wesleydyk/.pyenv/versions/3.10.14/envs/afsdemos/lib/python3.10/site-packages (from pandas<3,>=2.1.0->eqc-models) (2025.2)\n",
      "Requirement already satisfied: python-dateutil>=2.8.2 in /Users/wesleydyk/.pyenv/versions/3.10.14/envs/afsdemos/lib/python3.10/site-packages (from pandas<3,>=2.1.0->eqc-models) (2.9.0.post0)\n",
      "Requirement already satisfied: requests<3,>=2.22.1 in /Users/wesleydyk/.pyenv/versions/3.10.14/envs/afsdemos/lib/python3.10/site-packages (from qci-client<6,>=5->eqc-models) (2.28.1)\n",
      "Requirement already satisfied: requests-futures<2,>=1.0.0 in /Users/wesleydyk/.pyenv/versions/3.10.14/envs/afsdemos/lib/python3.10/site-packages (from qci-client<6,>=5->eqc-models) (1.0.2)\n",
      "Requirement already satisfied: joblib>=1.2.0 in /Users/wesleydyk/.pyenv/versions/3.10.14/envs/afsdemos/lib/python3.10/site-packages (from scikit-learn<2,>=1.2.1->eqc-models) (1.5.1)\n",
      "Requirement already satisfied: threadpoolctl>=3.1.0 in /Users/wesleydyk/.pyenv/versions/3.10.14/envs/afsdemos/lib/python3.10/site-packages (from scikit-learn<2,>=1.2.1->eqc-models) (3.6.0)\n",
      "Requirement already satisfied: bitarray<4.0,>=3.0.0 in /Users/wesleydyk/.pyenv/versions/3.10.14/envs/afsdemos/lib/python3.10/site-packages (from bitstring<5,>=4.1.2->emucore-direct==1.0.7->eqc-models) (3.4.2)\n",
      "Requirement already satisfied: six>=1.5 in /Users/wesleydyk/.pyenv/versions/3.10.14/envs/afsdemos/lib/python3.10/site-packages (from python-dateutil>=2.8.2->pandas<3,>=2.1.0->eqc-models) (1.17.0)\n",
      "Requirement already satisfied: certifi>=2017.4.17 in /Users/wesleydyk/.pyenv/versions/3.10.14/envs/afsdemos/lib/python3.10/site-packages (from requests<3,>=2.22.1->qci-client<6,>=5->eqc-models) (2025.6.15)\n",
      "Requirement already satisfied: urllib3<1.27,>=1.21.1 in /Users/wesleydyk/.pyenv/versions/3.10.14/envs/afsdemos/lib/python3.10/site-packages (from requests<3,>=2.22.1->qci-client<6,>=5->eqc-models) (1.26.20)\n",
      "Requirement already satisfied: idna<4,>=2.5 in /Users/wesleydyk/.pyenv/versions/3.10.14/envs/afsdemos/lib/python3.10/site-packages (from requests<3,>=2.22.1->qci-client<6,>=5->eqc-models) (3.10)\n",
      "Requirement already satisfied: charset-normalizer<3,>=2 in /Users/wesleydyk/.pyenv/versions/3.10.14/envs/afsdemos/lib/python3.10/site-packages (from requests<3,>=2.22.1->qci-client<6,>=5->eqc-models) (2.1.1)\n",
      "\u001b[33mWARNING: Ignoring invalid distribution -rpcio (/Users/wesleydyk/.pyenv/versions/3.10.14/envs/afsdemos/lib/python3.10/site-packages)\u001b[0m\u001b[33m\n",
      "\u001b[0m\u001b[33mWARNING: Ignoring invalid distribution -rpcio (/Users/wesleydyk/.pyenv/versions/3.10.14/envs/afsdemos/lib/python3.10/site-packages)\u001b[0m\u001b[33m\n",
      "\u001b[0m\u001b[33mWARNING: Ignoring invalid distribution -rpcio (/Users/wesleydyk/.pyenv/versions/3.10.14/envs/afsdemos/lib/python3.10/site-packages)\u001b[0m\u001b[33m\n",
      "\u001b[0m\u001b[33mWARNING: Ignoring invalid distribution -rpcio (/Users/wesleydyk/.pyenv/versions/3.10.14/envs/afsdemos/lib/python3.10/site-packages)\u001b[0m\u001b[33m\n",
      "\u001b[0m\n",
      "\u001b[1m[\u001b[0m\u001b[34;49mnotice\u001b[0m\u001b[1;39;49m]\u001b[0m\u001b[39;49m A new release of pip is available: \u001b[0m\u001b[31;49m23.0.1\u001b[0m\u001b[39;49m -> \u001b[0m\u001b[32;49m25.2\u001b[0m\n",
      "\u001b[1m[\u001b[0m\u001b[34;49mnotice\u001b[0m\u001b[1;39;49m]\u001b[0m\u001b[39;49m To update, run: \u001b[0m\u001b[32;49mpip install --upgrade pip\u001b[0m\n"
     ]
    }
   ],
   "source": [
    "!pip install eqc-models\n",
    "import os\n",
    "import sys\n",
    "import pandas as pd\n",
    "import warnings\n",
    "warnings.filterwarnings(\"ignore\")\n",
    "from eqc_models.allocation import PortMomentum\n",
    "from eqc_models.solvers import Dirac3ContinuousCloudSolver\n",
    "from utils import (\n",
    "    get_nasdaq100_constituents,\n",
    "    get_port_stats,\n",
    ")\n",
    "try:\n",
    "    from google.colab import userdata\n",
    "except ImportError:\n",
    "    userdata = None"
   ]
  },
  {
   "cell_type": "code",
   "execution_count": 2,
   "id": "e4ad1c72",
   "metadata": {},
   "outputs": [],
   "source": [
    "# Define the API URL and token  for QCI\n",
    "api_url =\"https://api.qci-prod.com\"\n",
    "if userdata is None:\n",
    "    api_token = \"\" # replace or use environment variables to configure\n",
    "else:\n",
    "    api_token = userdata.get(\"QCI_TOKEN\")\n",
    "    os.environ[\"QCI_TOKEN\"] = api_token\n",
    "    os.environ[\"QCI_API_URL\"] = api_url"
   ]
  },
  {
   "cell_type": "code",
   "execution_count": null,
   "id": "b26acc71-765f-48da-9f89-5a0fff989a8a",
   "metadata": {},
   "outputs": [
    {
     "name": "stdout",
     "output_type": "stream",
     "text": [
      "Chose 101 of 102 stocks\n"
     ]
    }
   ],
   "source": [
    "# Set parameters\n",
    "ADJ_DATE = \"2022-01-01\"\n",
    "LOOKBACK_DAYS = 60\n",
    "LOOKFORWARD_DAYS = 30\n",
    "\n",
    "# Get stock list\n",
    "stocks = get_nasdaq100_constituents(\n",
    "    ADJ_DATE, LOOKBACK_DAYS, LOOKFORWARD_DAYS,\n",
    ")\n",
    "\n",
    "# Get portfolio model\n",
    "model = PortMomentum(\n",
    "    stocks=stocks,\n",
    "    adj_date=ADJ_DATE,\n",
    "    stock_data_dir=\"stock_prices\",\n",
    "    lookback_days=LOOKBACK_DAYS,\n",
    "    window_days=30,\n",
    "    window_overlap_days=15,\n",
    "    weight_upper_limit=0.08,\n",
    "    r_base=0.05 / 365,\n",
    "    alpha=5.0, # penalty multiplier term\n",
    "    beta=1.0, # penalty multiplier term\n",
    "    xi=1.0, # multiplier as in the formula\n",
    ")"
   ]
  },
  {
   "cell_type": "code",
   "execution_count": 4,
   "id": "cd3359de-3607-4d18-85a9-46c57a6f1c4b",
   "metadata": {},
   "outputs": [
    {
     "name": "stdout",
     "output_type": "stream",
     "text": [
      "2025-08-28 22:15:56 - Dirac allocation balance = 0 s (unmetered)\n",
      "2025-08-28 22:15:56 - Job submitted: job_id='68b1297c8060c933979636a4'\n",
      "2025-08-28 22:15:56 - QUEUED\n",
      "2025-08-28 22:15:59 - RUNNING\n",
      "2025-08-28 22:16:17 - COMPLETED\n",
      "2025-08-28 22:16:19 - Dirac allocation balance = 0 s (unmetered)\n",
      "{'job_info': {'job_id': '68b1297c8060c933979636a4', 'job_submission': {'problem_config': {'normalized_qudit_hamiltonian_optimization': {'polynomial_file_id': '68b1297bacc178773e9a5307'}}, 'device_config': {'dirac-3_normalized_qudit': {'num_samples': 10, 'relaxation_schedule': 2, 'sum_constraint': 100}}}, 'job_status': {'submitted_at_rfc3339nano': '2025-08-29T04:15:56.651Z', 'queued_at_rfc3339nano': '2025-08-29T04:15:56.651Z', 'running_at_rfc3339nano': '2025-08-29T04:15:57.627Z', 'completed_at_rfc3339nano': '2025-08-29T04:16:16.231Z'}, 'job_result': {'file_id': '68b12990acc178773e9a530d', 'device_usage_s': 16}}, 'status': 'COMPLETED', 'results': {'counts': [1, 1, 1, 1, 1, 1, 1, 1, 1, 1], 'energies': [-51499.234375, -51499.2226562, -51499.21875, -51499.1992188, -51499.1953125, -51499.1953125, -51499.15625, -51498.2421875, -51498.2109375, -51497.1953125], 'solutions': [[1.0525178, 1.0203862, 0.9762388, 0.9476329, 0.9729501, 0.9754515, 0.931393, 0.9686159, 1.0620269, 1.0560017, 1.0040224, 0.898921, 0.900004, 0.9411406, 0.9641559, 0.9483311, 0.9532995, 0.9631675, 0.996199, 1.0089549, 1.0094211, 1.0206892, 1.0530756, 1.0586988, 1.0674462, 0.9699309, 0.9185314, 1.0148891, 0.9804109, 1.0177815, 1.0171484, 1.0233095, 1.0125976, 0.9733422, 1.0634539, 1.0096893, 0.9121976, 0.9580234, 0.9956157, 1.0837805, 0.9870899, 1.0118167, 1.0642898, 0.8943813, 0.9103696, 1.0142058, 1.0103974, 0.9634919, 0.9225976, 0.9698267, 0.9682137, 0.9745295, 0.9711552, 0.9368256, 0.9002576, 0.9025689, 0.9337914, 0.93719, 0.989837, 0.9452757, 1.0044861, 0.9921337, 0.9916653, 0.9806556, 1.0060121, 0.9925263, 0.9848145, 1.0284911, 1.0396427, 1.0810946, 1.0875742, 1.016451, 0.9598732, 0.9400381, 0.9389569, 0.9962991, 1.0338522, 1.0322108, 0.9712229, 1.0143225, 1.048025, 0.959914, 0.9438473, 1.048448, 1.0154765, 0.9769097, 0.9528565, 0.9738653, 0.9686323, 1.0647893, 1.1057132, 0.9933338, 0.9407042, 0.9460416, 0.994553, 1.0130761, 0.9766145, 1.0176046, 1.0203291, 1.0383332, 0.9990568, 0, 0, 0, 0, 0, 0, 0, 0, 0, 0, 0, 0, 0, 0, 0, 0, 0, 0, 0, 0, 0, 0, 0, 0, 0, 0, 0, 0, 0, 0, 0, 0, 0, 0, 0, 0, 0, 0, 0, 0, 0, 0, 0, 0, 0, 0, 0, 0, 0, 0, 0, 0, 0, 0, 0, 0, 0, 0, 0, 0, 0, 0, 0, 0, 0, 0, 0, 0, 0, 0, 0, 0, 0, 0, 0, 0, 0, 0, 0, 0, 0, 0, 0, 0, 0, 0, 0, 0, 0, 0, 0, 0, 0, 0, 0, 0, 0, 0, 0, 0, 0], [0.9464196, 0.9522147, 1.0567029, 0.9207611, 0.924412, 0.9811381, 0.9721076, 1.0757881, 1.0794004, 0.9352986, 1.0247719, 1.0139545, 1.0379735, 0.9617277, 0.9993382, 1.0066643, 0.9515247, 0.8834656, 0.9623933, 0.9482986, 0.9337298, 1.0066046, 0.9183177, 0.9507461, 1.0112957, 1.0264201, 0.9654483, 0.9586176, 0.9075871, 0.9704394, 1.0280266, 1.0381261, 0.9488533, 0.9387213, 1.0172162, 0.9364287, 0.8515571, 0.9436359, 1.0704101, 1.0339113, 0.9887307, 0.9497014, 0.9664246, 0.9907118, 0.92158, 0.9503282, 1.0035052, 1.0182067, 0.9856213, 0.9626676, 0.9859461, 0.967769, 1.0287726, 1.0229325, 1.0256032, 1.0242321, 1.0088003, 1.0129616, 1.0791895, 1.0211302, 0.9976347, 1.0015773, 0.9675943, 0.9734187, 0.9960467, 0.9751481, 0.9895775, 1.0058454, 0.9511604, 0.886902, 0.9422058, 0.9767213, 0.9489797, 0.9330981, 0.9806121, 1.03332, 1.054598, 0.9207257, 0.9831375, 0.9927526, 1.0657589, 0.9840983, 0.9791635, 1.036625, 1.0492096, 1.0353646, 1.0965049, 1.109392, 0.9897608, 0.978696, 0.9566642, 1.0063851, 0.9713544, 1.1188301, 1.0552856, 0.9720404, 0.9474698, 0.9927129, 1.0439185, 1.0764514, 1.0180029, 0, 0, 0, 0, 0, 0, 0, 0, 0, 0, 0, 0, 0, 0, 0, 0, 0, 0, 0, 0, 0, 0, 0, 0, 0, 0, 0, 0, 0, 0, 0, 0, 0, 0, 0, 0, 0, 0, 0, 0, 0, 0, 0, 0, 0, 0, 0, 0, 0, 0, 0, 0, 0, 0, 0, 0, 0, 0, 0, 0, 0, 0, 0, 0, 0, 0, 0, 0, 0, 0, 0, 0, 0, 0, 0, 0, 0, 0, 0, 0, 0, 0, 0, 0, 0, 0, 0, 0, 0, 0, 0, 0, 0, 0, 0, 0, 0, 0, 0, 0, 0], [0.9835466, 0.9983818, 1.0491008, 1.068522, 0.9494449, 1.0534233, 1.0349035, 1.0352654, 1.0882597, 0.9874486, 0.9191898, 0.9670029, 0.948051, 0.9272481, 1.0010735, 1.0163944, 0.9869196, 1.0140818, 1.0474212, 1.0376213, 0.9650293, 1.0151392, 1.0634608, 1.0557846, 1.0712072, 1.1167474, 1.0286924, 1.0049727, 0.9935395, 1.0247638, 0.9727617, 0.9834695, 1.0077955, 0.9890698, 0.9561909, 1.0034733, 0.9989499, 0.9831243, 1.0053961, 0.9480902, 0.8834655, 0.96219, 0.9174681, 0.8823354, 0.9094079, 1.00682, 0.9335503, 0.9915104, 0.8258133, 0.8980122, 1.0417144, 1.0161439, 0.9684334, 1.0233425, 0.993901, 0.9626822, 0.9358419, 0.9681061, 1.0115017, 0.991275, 0.9930948, 1.0009283, 1.0710407, 1.0200092, 0.9584149, 0.889223, 0.9002217, 1.0161548, 1.0154324, 0.9960759, 1.0005081, 0.9657779, 0.953093, 1.0054102, 0.9637771, 0.9767602, 0.987748, 0.9527918, 0.9613774, 0.9829448, 1.0004264, 0.9221761, 1.0861871, 1.0623032, 0.9526486, 0.9236963, 0.9488252, 1.0462252, 1.0437974, 0.9751573, 0.9945876, 1.0840242, 1.0643578, 0.967634, 0.9670742, 1.0023856, 0.9685472, 0.9957268, 0.9480077, 0.9951881, 1.0157644, 0, 0, 0, 0, 0, 0, 0, 0, 0, 0, 0, 0, 0, 0, 0, 0, 0, 0, 0, 0, 0, 0, 0, 0, 0, 0, 0, 0, 0, 0, 0, 0, 0, 0, 0, 0, 0, 0, 0, 0, 0, 0, 0, 0, 0, 0, 0, 0, 0, 0, 0, 0, 0, 0, 0, 0, 0, 0, 0, 0, 0, 0, 0, 0, 0, 0, 0, 0, 0, 0, 0, 0, 0, 0, 0, 0, 0, 0, 0, 0, 0, 0, 0, 0, 0, 0, 0, 0, 0, 0, 0, 0, 0, 0, 0, 0, 0, 0, 0, 0, 0], [1.0222117, 0.9150467, 0.9750919, 0.9531263, 0.9238787, 0.9494859, 1.006043, 1.0132657, 1.052227, 1.1060601, 1.1032324, 1.0289823, 0.9891528, 1.0427877, 1.0011746, 1.0102023, 0.9895418, 1.0284554, 0.941542, 1.0122207, 0.9820297, 0.9315403, 0.9760502, 1.0890975, 1.0022815, 0.958432, 1.0240589, 1.0955709, 0.9288574, 0.9715532, 0.9540588, 0.9795765, 0.9953868, 0.9651031, 0.9772602, 1.0164666, 1.0163867, 1.0505558, 0.9709251, 0.9543507, 0.9824237, 0.9359313, 0.967168, 0.9873275, 0.9667963, 0.9394939, 0.9948934, 0.9852808, 0.9323978, 0.9890212, 1.0273861, 1.0377527, 0.9645057, 1.0516003, 1.0864846, 1.066186, 0.9640768, 0.9534582, 1.0402086, 0.9120573, 0.9285976, 0.9744222, 1.0501717, 1.0330695, 0.9531006, 0.9419343, 0.8960603, 0.9435185, 0.9703232, 1.0164902, 0.986259, 1.0515653, 1.0120426, 0.9496086, 0.9674842, 0.9240043, 0.9255229, 0.98593, 0.9238071, 0.8695612, 0.9841415, 1.0192682, 1.0931456, 0.9824567, 0.8631586, 0.9147562, 0.9383546, 1.0531219, 1.0478765, 1.0292314, 0.9414166, 0.9855139, 1.0570245, 1.0736051, 1.0741736, 1.0098914, 0.9796104, 0.9688616, 1.0002602, 1.0108992, 0.982035, 0, 0, 0, 0, 0, 0, 0, 0, 0, 0, 0, 0, 0, 0, 0, 0, 0, 0, 0, 0, 0, 0, 0, 0, 0, 0, 0, 0, 0, 0, 0, 0, 0, 0, 0, 0, 0, 0, 0, 0, 0, 0, 0, 0, 0, 0, 0, 0, 0, 0, 0, 0, 0, 0, 0, 0, 0, 0, 0, 0, 0, 0, 0, 0, 0, 0, 0, 0, 0, 0, 0, 0, 0, 0, 0, 0, 0, 0, 0, 0, 0, 0, 0, 0, 0, 0, 0, 0, 0, 0, 0, 0, 0, 0, 0, 0, 0, 0, 0, 0, 0], [0.9655323, 0.9958487, 1.136554, 1.0436511, 0.9938774, 0.9747374, 0.9722776, 0.9758047, 0.905132, 0.9190442, 0.9481308, 0.9099369, 0.9553242, 0.9466362, 0.914746, 0.9726365, 1.009295, 0.9677039, 0.9097261, 0.9560797, 0.9626337, 0.9649689, 0.896612, 0.964378, 0.9363562, 0.923928, 0.9504373, 1.0983866, 1.0504491, 1.019961, 1.0728312, 0.9995924, 1.0148498, 1.0081509, 1.0588615, 1.0343817, 0.9595719, 0.9298458, 0.8928806, 0.9318544, 1.0386027, 0.9357147, 0.9453257, 0.9881979, 0.9459285, 0.9380484, 0.9845798, 1.0715703, 0.9922612, 0.9350346, 1.0270989, 1.0148772, 1.0493336, 1.1063511, 0.990986, 0.9955181, 0.9687781, 1.014266, 1.0893738, 1.0025635, 0.9676925, 0.9928473, 1.0095469, 1.018221, 1.0450391, 1.0991185, 1.0364733, 1.0154872, 1.0126784, 0.9865341, 1.0000107, 0.9785177, 1.056527, 1.0235783, 0.9832879, 0.9670983, 1.0739039, 1.0288228, 0.9356819, 0.9305323, 0.9698765, 0.9250361, 0.9724806, 0.9835253, 1.1345855, 1.0122668, 0.9640937, 0.9093996, 0.9486372, 1.0366272, 1.0451862, 1.0412265, 1.0174916, 1.0083158, 0.9935024, 0.9414531, 1.0110846, 1.0102819, 0.9706282, 0.985711, 0.8789809, 0, 0, 0, 0, 0, 0, 0, 0, 0, 0, 0, 0, 0, 0, 0, 0, 0, 0, 0, 0, 0, 0, 0, 0, 0, 0, 0, 0, 0, 0, 0, 0, 0, 0, 0, 0, 0, 0, 0, 0, 0, 0, 0, 0, 0, 0, 0, 0, 0, 0, 0, 0, 0, 0, 0, 0, 0, 0, 0, 0, 0, 0, 0, 0, 0, 0, 0, 0, 0, 0, 0, 0, 0, 0, 0, 0, 0, 0, 0, 0, 0, 0, 0, 0, 0, 0, 0, 0, 0, 0, 0, 0, 0, 0, 0, 0, 0, 0, 0, 0, 0], [1.011953, 0.9460632, 0.9738861, 0.9398096, 0.9670697, 0.9659165, 0.9582523, 0.9598237, 0.9857864, 0.9518607, 1.0154492, 1.0220363, 0.9679582, 0.9593927, 0.9450507, 0.9804057, 1.0340089, 0.996637, 1.0327729, 0.9958837, 1.0386453, 1.0808997, 1.057204, 1.1228904, 1.0255995, 1.0513843, 0.9895436, 0.9259836, 0.9058486, 0.9762692, 0.97119, 0.9624644, 1.0410106, 1.0047278, 0.8965694, 0.9014103, 0.9750125, 1.0051395, 1.0105205, 0.9767239, 0.9273614, 0.9771581, 1.0493407, 1.0340791, 1.0461347, 1.0358777, 0.9772704, 1.0805392, 0.9928897, 0.9557959, 0.9272845, 0.9505186, 0.8854991, 0.9370435, 1.0319663, 0.9882341, 0.9648303, 1.0486901, 1.1349529, 1.0360911, 1.0017197, 1.0129607, 1.0285702, 1.0454861, 0.9826548, 1.0429246, 0.9814842, 0.9621964, 0.9173794, 0.920469, 0.9775016, 0.9269902, 0.9733233, 0.9587507, 1.0256922, 0.9875203, 1.063611, 0.9447591, 0.988705, 1.0586822, 0.9890051, 0.9315102, 0.9274799, 0.9756446, 0.9711751, 1.0408158, 0.9152856, 0.8993168, 1.0150454, 0.9952297, 1.0415972, 0.9803323, 0.9320822, 0.9340725, 1.0006782, 0.9012954, 1.0049456, 1.1393155, 1.0545126, 1.037812, 1.0008547, 0, 0, 0, 0, 0, 0, 0, 0, 0, 0, 0, 0, 0, 0, 0, 0, 0, 0, 0, 0, 0, 0, 0, 0, 0, 0, 0, 0, 0, 0, 0, 0, 0, 0, 0, 0, 0, 0, 0, 0, 0, 0, 0, 0, 0, 0, 0, 0, 0, 0, 0, 0, 0, 0, 0, 0, 0, 0, 0, 0, 0, 0, 0, 0, 0, 0, 0, 0, 0, 0, 0, 0, 0, 0, 0, 0, 0, 0, 0, 0, 0, 0, 0, 0, 0, 0, 0, 0, 0, 0, 0, 0, 0, 0, 0, 0, 0, 0, 0, 0, 0], [0.9440508, 0.9127665, 0.9738912, 1.0121037, 0.9830258, 0.9020973, 0.892, 0.9785049, 0.9655799, 1.0251495, 1.0365605, 1.085377, 1.0867915, 1.0045428, 0.9361787, 0.9490209, 1.0837238, 1.023723, 1.0281315, 1.0596771, 0.9955028, 1.0586329, 0.9655586, 0.992182, 0.9958188, 0.9097978, 0.8684362, 0.9377755, 0.9550641, 0.9056148, 0.9608959, 1.017758, 1.0341334, 1.0922357, 0.9307543, 0.888789, 0.9175528, 1.0129777, 0.9682871, 1.0036345, 0.9971261, 0.9898898, 1.0741621, 1.0490438, 0.9585243, 0.9912068, 0.9965827, 1.0260978, 0.9331083, 0.8922661, 0.9219562, 0.9824102, 0.9726111, 0.9478394, 1.011403, 0.9660063, 0.9716173, 1.0424634, 0.9769364, 0.9260532, 0.956741, 0.9580901, 0.9993476, 0.9681554, 0.9715537, 0.9626415, 0.8972589, 0.9135897, 0.9725632, 1.0635489, 1.0431074, 1.0038615, 1.0282515, 1.0341971, 0.9805404, 1.0367055, 1.0333965, 0.9543384, 1.0587285, 1.0671519, 0.9633864, 0.8817808, 0.9644544, 0.9258056, 0.9549487, 0.9924875, 1.0759014, 1.100804, 1.0559884, 1.076031, 1.00726, 1.0040451, 0.9583748, 1.0182165, 1.1109422, 1.1103128, 1.028572, 0.9715125, 1.0007328, 1.0269201, 0.9461517, 0, 0, 0, 0, 0, 0, 0, 0, 0, 0, 0, 0, 0, 0, 0, 0, 0, 0, 0, 0, 0, 0, 0, 0, 0, 0, 0, 0, 0, 0, 0, 0, 0, 0, 0, 0, 0, 0, 0, 0, 0, 0, 0, 0, 0, 0, 0, 0, 0, 0, 0, 0, 0, 0, 0, 0, 0, 0, 0, 0, 0, 0, 0, 0, 0, 0, 0, 0, 0, 0, 0, 0, 0, 0, 0, 0, 0, 0, 0, 0, 0, 0, 0, 0, 0, 0, 0, 0, 0, 0, 0, 0, 0, 0, 0, 0, 0, 0, 0, 0, 0], [0.9974378, 1.0098222, 1.0270852, 1.0037352, 0.9682094, 1.057843, 1.0207623, 1.0048807, 0.995155, 0.9856555, 1.0009353, 1.0114027, 0.9889914, 0.9068438, 0.9469615, 1.0291283, 0.9900156, 1.0461684, 0.992319, 0.9601932, 0.9675564, 1.0381951, 1.0457473, 1.0201522, 1.0045153, 1.0271736, 1.0535612, 1.0045612, 0.9123114, 0.91762, 0.9728895, 0.939459, 0.9654002, 0.9607273, 0.9667029, 1.0211753, 1.0057559, 0, 0.9466296, 0.8554561, 0.9971745, 1.0926034, 0.9575456, 0.9092111, 0.9270121, 1.020272, 1.0777974, 1.0808811, 0.9635113, 1.0279233, 1.0936923, 1.0617291, 1.0467073, 1.0839678, 0.9947143, 0.958618, 0.9718246, 0.9799601, 0.9513677, 0.9993876, 1.0761769, 1.016129, 1.0097367, 0.9868418, 0.9371188, 0.9254891, 1.0711122, 1.0778744, 0.9391492, 0.9951873, 1.0667424, 1.0139029, 0.9928168, 1.0767984, 1.0123723, 0.9392066, 0.9357692, 0.9738815, 1.031052, 0.9705344, 1.0840648, 1.0285535, 0.9913267, 1.0063813, 1.0204091, 1.0814188, 1.0484246, 1.0570542, 1.0884691, 0.9442228, 0.9724253, 0.9968927, 1.0007317, 0.9604304, 0.9897375, 0.9799219, 0.9659601, 1.0080118, 1.0375684, 0.9973771, 0.9276949, 0, 0, 0, 0, 0, 0, 0, 0, 0, 0, 0, 0, 0, 0, 0, 0, 0, 0, 0, 0, 0, 0, 0, 0, 0, 0, 0, 0, 0, 0, 0, 0, 0, 0, 0, 0, 0, 0, 0, 0, 0, 0, 0, 0, 0, 0, 0, 0, 0, 0, 0, 0, 0, 0, 0, 0, 0, 0, 0, 0, 0, 0, 0, 0, 0, 0, 0, 0, 0, 0, 0, 0, 0, 0, 0, 0, 0, 0, 0, 0, 0, 0, 0, 0, 0, 0, 0, 0, 0, 0, 0, 0, 0, 0, 0, 0, 0, 0, 0, 0, 0], [1.0571007, 0.9174799, 1.0032263, 0.9810646, 0.9768491, 1.041748, 1.0243015, 0.9943686, 0.9611083, 0.9457042, 1.0429707, 1.0386542, 1.0312402, 1.0314701, 1.0001879, 0.9674888, 1.0321256, 1.0538703, 0.9229569, 0.939411, 1.0341016, 1.0198387, 1.02807, 1.0448315, 0.9845497, 1.044867, 1.0197165, 0.997431, 0.9821918, 1.0341733, 1.0092824, 1.0545861, 1.1281438, 1.0414909, 0.9650551, 1.0037088, 1.0371972, 1.0442165, 0.992653, 1.05855, 1.0004106, 0.9930314, 0.9494508, 0.9806005, 1.016848, 1.0419992, 1.0000112, 1.0562576, 1.0735134, 1.0231166, 0.9338215, 0.9055194, 1.036288, 1.0955991, 0.983118, 0.9420352, 0.9794517, 0.9867522, 0.9642371, 0.9691601, 1.0336331, 1.08737, 1.002284, 0.9076981, 0.9381193, 0.9934565, 0.9739273, 0.9561059, 0.8666567, 0.8824324, 0.951, 0.9162512, 0.978255, 1.0626382, 1.1159499, 1.0414696, 1.0387534, 1.0782502, 1.0477928, 0.9922031, 1.0100878, 0.9703752, 0.9921315, 0.9951111, 1.0044589, 0.9785819, 0.9348001, 0.9069737, 0.9534733, 0.976739, 0, 1.0506603, 1.0610932, 1.0483739, 0.9706262, 0.9838523, 1.0221421, 1.0051361, 1.0287915, 0.9523414, 0.8707972, 0, 0, 0, 0, 0, 0, 0, 0, 0, 0, 0, 0, 0, 0, 0, 0, 0, 0, 0, 0, 0, 0, 0, 0, 0, 0, 0, 0, 0, 0, 0, 0, 0, 0, 0, 0, 0, 0, 0, 0, 0, 0, 0, 0, 0, 0, 0, 0, 0, 0, 0, 0, 0, 0, 0, 0, 0, 0, 0, 0, 0, 0, 0, 0, 0, 0, 0, 0, 0, 0, 0, 0, 0, 0, 0, 0, 0, 0, 0, 0, 0, 0, 0, 0, 0, 0, 0, 0, 0, 0, 0, 0, 0, 0, 0, 0, 0, 0, 0, 0, 0], [1.0051895, 0.9431021, 1.0158534, 1.0117623, 0.8574805, 0.9913433, 1.0716344, 1.1062198, 1.1353371, 1.0523394, 0.9645351, 0.9710415, 1.0222442, 1.0363107, 1.064285, 0.9935589, 0.9928876, 1.0511941, 1.0390532, 0.9396912, 0.9643333, 0.9545574, 0.9905881, 1.0511289, 1.0593135, 1.0697805, 1.0278333, 1.0115986, 0.9922548, 1.0352411, 0.9730085, 0.9997464, 0.992542, 1.0776918, 1.0769459, 1.1076703, 1.0538578, 0.9782789, 0.8410326, 0, 1.0162604, 1.0028194, 1.0319805, 1.0281981, 0.9601989, 1.0305556, 0.9707638, 0.9714206, 1.0071338, 1.0329529, 1.0267608, 1.0190552, 0.9754438, 0.9176046, 0, 0.9046291, 1.0084767, 1.0254909, 0.9697846, 0.9228478, 0.9871835, 1.0800678, 1.0306879, 0.9837237, 1.048945, 1.1052436, 1.0348896, 0.9857574, 1.0080165, 1.0415636, 1.0534217, 0.9674163, 0.9874032, 1.0566672, 1.0157858, 0.9869967, 0.9886662, 1.025004, 0.9592587, 1.0152572, 1.0773146, 0.9300003, 0.9315564, 0.9556159, 0.9788936, 1.0614835, 1.0891155, 1.1406764, 0.9739773, 0.9426423, 1.0075809, 1.0608492, 0.9673763, 1.0143273, 1.0314881, 0.9768428, 1.0391606, 0.9660906, 1.0443275, 1.1147038, 0.9891734, 0, 0, 0, 0, 0, 0, 0, 0, 0, 0, 0, 0, 0, 0, 0, 0, 0, 0, 0, 0, 0, 0, 0, 0, 0, 0, 0, 0, 0, 0, 0, 0, 0, 0, 0, 0, 0, 0, 0, 0, 0, 0, 0, 0, 0, 0, 0, 0, 0, 0, 0, 0, 0, 0, 0, 0, 0, 0, 0, 0, 0, 0, 0, 0, 0, 0, 0, 0, 0, 0, 0, 0, 0, 0, 0, 0, 0, 0, 0, 0, 0, 0, 0, 0, 0, 0, 0, 0, 0, 0, 0, 0, 0, 0, 0, 0, 0, 0, 0, 0, 0]]}}\n",
      "Processing 2022-01-01...\n",
      "             Portfolio  Avg. Daily Return (%)  Std. Dev. Daily Return (%)\n",
      "0  Optimized Portfolio              -0.290544                    1.454102\n",
      "1           Nasdaq-100              -0.508714                    1.878719\n"
     ]
    }
   ],
   "source": [
    "# Solve on Dirac-3\n",
    "solver = Dirac3ContinuousCloudSolver()\n",
    "response = solver.solve(\n",
    "    model,\n",
    "    sum_constraint=100,\n",
    "    relaxation_schedule=2,\n",
    "    num_samples=10,\n",
    ")\n",
    "sol = response[\"results\"][\"solutions\"][0][:len(stocks)]\n",
    "\n",
    "print(response)\n",
    "\n",
    "weight_hash = {}\n",
    "for i in range(len(stocks)):\n",
    "    weight_hash[stocks[i]] = sol[i] / 100.0\n",
    "\n",
    "tot_weight = sum(weight_hash.values())\n",
    "\n",
    "if tot_weight != 1.0:\n",
    "    for stock in stocks:\n",
    "        weight_hash[stock] = weight_hash[stock] / tot_weight\n",
    "\n",
    "weight_df = pd.DataFrame(\n",
    "    {\n",
    "        \"Stock\": [item for item in weight_hash.keys()],\n",
    "        \"Allocation\": [\n",
    "            weight_hash[item] for item in weight_hash.keys()\n",
    "        ],\n",
    "    }\n",
    ")\n",
    "weight_df[\"Date\"] = ADJ_DATE\n",
    "weight_df = weight_df[weight_df[\"Allocation\"] > 0]\n",
    "\n",
    "ret_df = get_port_stats(weight_df, 30)\n",
    "\n",
    "print(ret_df)\n"
   ]
  },
  {
   "cell_type": "code",
   "execution_count": null,
   "id": "7ac25afd",
   "metadata": {},
   "outputs": [],
   "source": []
  }
 ],
 "metadata": {
  "kernelspec": {
   "display_name": "afsdemos",
   "language": "python",
   "name": "python3"
  },
  "language_info": {
   "codemirror_mode": {
    "name": "ipython",
    "version": 3
   },
   "file_extension": ".py",
   "mimetype": "text/x-python",
   "name": "python",
   "nbconvert_exporter": "python",
   "pygments_lexer": "ipython3",
   "version": "3.10.14"
  }
 },
 "nbformat": 4,
 "nbformat_minor": 5
}
